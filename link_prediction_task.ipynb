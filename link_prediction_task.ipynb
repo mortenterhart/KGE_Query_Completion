{
 "cells": [
  {
   "cell_type": "code",
   "outputs": [],
   "source": [
    "from typing import Literal\n",
    "\n",
    "import numpy as np\n",
    "import pandas as pd\n",
    "import requests\n",
    "import torch\n",
    "import seaborn as sns\n",
    "import matplotlib.pyplot as plt\n",
    "from pykeen.predict import predict_target\n",
    "from pykeen.triples import TriplesFactory"
   ],
   "metadata": {
    "collapsed": false,
    "ExecuteTime": {
     "end_time": "2024-01-26T00:09:30.521372226Z",
     "start_time": "2024-01-26T00:09:30.515419829Z"
    }
   },
   "id": "536afcf141031ad4",
   "execution_count": 16
  },
  {
   "cell_type": "markdown",
   "source": [
    "## Constants"
   ],
   "metadata": {
    "collapsed": false
   },
   "id": "31cf9e6028cd3260"
  },
  {
   "cell_type": "code",
   "outputs": [],
   "source": [
    "DECISIVE_METRIC = 'hits_at_10'\n",
    "DECISIVE_METRIC_OPTIMUM = 'max'\n",
    "\n",
    "# Number of top k predictions to keep for generating\n",
    "# new triple patterns\n",
    "TOP_K = 10\n",
    "\n",
    "# Set Seaborn theme\n",
    "SEABORN_THEME = 'darkgrid'\n",
    "sns.set_theme(style=SEABORN_THEME)"
   ],
   "metadata": {
    "collapsed": false,
    "ExecuteTime": {
     "end_time": "2024-01-26T01:32:17.480704471Z",
     "start_time": "2024-01-26T01:32:17.478644805Z"
    }
   },
   "id": "e9c332e14909103b",
   "execution_count": 58
  },
  {
   "cell_type": "markdown",
   "source": [
    "## Load Wikidata5M"
   ],
   "metadata": {
    "collapsed": false
   },
   "id": "3953607d233ba0aa"
  },
  {
   "cell_type": "code",
   "outputs": [],
   "source": [
    "SubsetType = Literal['train', 'valid', 'test']\n",
    "\n",
    "\n",
    "def load_wikidata5m_dataset(subset_type: SubsetType):\n",
    "    return pd.read_csv(f'dataset/wikidata5m/wikidata5m_transductive_{subset_type}.txt', sep='\\t', names=['S', 'P', 'O'])\n",
    "\n",
    "\n",
    "wikidata5m_train = load_wikidata5m_dataset('train')\n",
    "wikidata5m_valid = load_wikidata5m_dataset('valid')\n",
    "wikidata5m_test = load_wikidata5m_dataset('test')"
   ],
   "metadata": {
    "collapsed": false,
    "ExecuteTime": {
     "end_time": "2024-01-26T00:10:01.788790339Z",
     "start_time": "2024-01-26T00:09:35.986827545Z"
    }
   },
   "id": "d764557a4b191b59",
   "execution_count": 18
  },
  {
   "cell_type": "markdown",
   "source": [
    "## Load trained models and mappings"
   ],
   "metadata": {
    "collapsed": false
   },
   "id": "91433df74ba54ee3"
  },
  {
   "cell_type": "code",
   "execution_count": 19,
   "id": "initial_id",
   "metadata": {
    "collapsed": true,
    "ExecuteTime": {
     "end_time": "2024-01-26T00:10:59.352968331Z",
     "start_time": "2024-01-26T00:10:01.794779135Z"
    }
   },
   "outputs": [],
   "source": [
    "def get_trained_models():\n",
    "    return {\n",
    "        'complex': torch.load('embeddings/dim_32/complex/trained_model.pkl'),\n",
    "        'distmult': torch.load('embeddings/dim_32/distmult/trained_model.pkl'),\n",
    "        'simple': torch.load('embeddings/dim_32/simple/trained_model.pkl'),\n",
    "        'transe': torch.load('embeddings/dim_32/transe/trained_model.pkl')\n",
    "    }\n",
    "\n",
    "\n",
    "def get_trained_entity_mappings():\n",
    "    return {\n",
    "        'complex': TriplesFactory.from_path_binary('embeddings/dim_32/complex/training_triples'),\n",
    "        'distmult': TriplesFactory.from_path_binary('embeddings/dim_32/distmult/training_triples'),\n",
    "        'simple': TriplesFactory.from_path_binary('embeddings/dim_32/simple/training_triples'),\n",
    "        'transe': TriplesFactory.from_path_binary('embeddings/dim_32/transe/training_triples')\n",
    "    }\n",
    "\n",
    "\n",
    "trained_models = get_trained_models()\n",
    "entity_mappings = get_trained_entity_mappings()"
   ]
  },
  {
   "cell_type": "markdown",
   "source": [
    "## Load predicate metrics"
   ],
   "metadata": {
    "collapsed": false
   },
   "id": "813c76ba58ae4a09"
  },
  {
   "cell_type": "code",
   "outputs": [],
   "source": [
    "dim32_predicate_metrics = pd.read_csv('metrics/predicate_metrics.csv')\n",
    "\n",
    "# Only consider realistic values, evaluated on both ends\n",
    "dim32_predicate_metrics = dim32_predicate_metrics.query('Type == \"realistic\" and Side == \"both\"')"
   ],
   "metadata": {
    "collapsed": false,
    "ExecuteTime": {
     "end_time": "2024-01-26T00:10:59.463332839Z",
     "start_time": "2024-01-26T00:10:59.352781290Z"
    }
   },
   "id": "38058e763601ae21",
   "execution_count": 20
  },
  {
   "cell_type": "markdown",
   "source": [
    "## Utilities"
   ],
   "metadata": {
    "collapsed": false
   },
   "id": "27894876f152a5f3"
  },
  {
   "cell_type": "code",
   "outputs": [],
   "source": [
    "def get_wikidata_property_labels(property_ids: list) -> dict:\n",
    "    wikidata_api = 'https://www.wikidata.org/w/api.php'\n",
    "    params = {\n",
    "        'action': 'wbgetentities',\n",
    "        'ids': '|'.join(property_ids),\n",
    "        'languages': 'en',\n",
    "        'props': 'labels',\n",
    "        'format': 'json'\n",
    "    }\n",
    "\n",
    "    response = requests.get(wikidata_api, params).json()\n",
    "\n",
    "    property_labels = []\n",
    "    for pid in property_ids:\n",
    "        property_labels.append(response['entities'][pid]['labels']['en']['value'])\n",
    "\n",
    "    return property_labels\n",
    "\n",
    "\n",
    "def format_triple(subject, predicate, obj):\n",
    "    if obj.startswith('?o'):\n",
    "        return f'{subject} {predicate} {obj}   {get_wikidata_property_labels([subject, predicate])}'\n",
    "\n",
    "    return f'{subject} {predicate} {obj}   {get_wikidata_property_labels([subject, predicate, obj])}'"
   ],
   "metadata": {
    "collapsed": false,
    "ExecuteTime": {
     "end_time": "2024-01-26T00:10:59.472977449Z",
     "start_time": "2024-01-26T00:10:59.466416870Z"
    }
   },
   "id": "67dcf53a7eb989ee",
   "execution_count": 21
  },
  {
   "cell_type": "markdown",
   "source": [
    "## Functions"
   ],
   "metadata": {
    "collapsed": false
   },
   "id": "7282f4f247d7618e"
  },
  {
   "cell_type": "code",
   "outputs": [],
   "source": [
    "def find_train_triple_with_predicate(predicate_name):\n",
    "    triples = wikidata5m_train.query('P == @predicate_name')\n",
    "\n",
    "    if len(triples) > 0:\n",
    "        i = np.random.randint(len(triples))\n",
    "        random_triple = tuple(triples.iloc[i][['S', 'P', 'O']])\n",
    "        return random_triple\n",
    "    else:\n",
    "        print(f'Error: No triples found for predicate {predicate_name} in training set')\n",
    "\n",
    "\n",
    "def find_train_triple_with_subject(subject_name):\n",
    "    triples = wikidata5m_train.query('S == @subject_name')\n",
    "\n",
    "    if len(triples) > 0:\n",
    "        i = np.random.randint(len(triples))\n",
    "        random_triple = tuple(triples.iloc[i][['S', 'P', 'O']])\n",
    "        return random_triple\n",
    "    else:\n",
    "        print(f'Error: No triples found for subject {subject_name} in training set')\n",
    "\n",
    "\n",
    "def select_best_model(predicate_metrics, predicate_name):\n",
    "    metrics_df = predicate_metrics.query('Metric == @DECISIVE_METRIC and relation_label == @predicate_name')\n",
    "\n",
    "    optimal_metric = None\n",
    "    if DECISIVE_METRIC_OPTIMUM == 'min':\n",
    "        optimal_metric = metrics_df.loc[metrics_df['Value'].idxmin()]\n",
    "    elif DECISIVE_METRIC_OPTIMUM == 'max':\n",
    "        optimal_metric = metrics_df.loc[metrics_df['Value'].idxmax()]\n",
    "\n",
    "    return optimal_metric['model']\n",
    "\n",
    "\n",
    "def predict_tail(model_name, subject, predicate):\n",
    "    model = trained_models[model_name]\n",
    "    triples_factory = entity_mappings[model_name]\n",
    "\n",
    "    return process_predictions(\n",
    "        predict_target(\n",
    "            model=model,\n",
    "            head=subject,\n",
    "            relation=predicate,\n",
    "            tail=None,\n",
    "            triples_factory=triples_factory\n",
    "        ), model_name)\n",
    "\n",
    "\n",
    "def process_predictions(predictions, model_name):\n",
    "    predictions_df = predictions.df.assign(model=model_name)\n",
    "    predictions_df = predictions_df.sort_values(by='score', ascending=False, ignore_index=True)\n",
    "    return predictions_df.head(n=TOP_K)"
   ],
   "metadata": {
    "collapsed": false,
    "ExecuteTime": {
     "end_time": "2024-01-26T01:32:26.271426419Z",
     "start_time": "2024-01-26T01:32:26.255349603Z"
    }
   },
   "id": "ac0254bebb4a6e87",
   "execution_count": 59
  },
  {
   "cell_type": "markdown",
   "source": [
    "## Best Model Counts"
   ],
   "metadata": {
    "collapsed": false
   },
   "id": "2c691e50bea1b994"
  },
  {
   "cell_type": "code",
   "outputs": [
    {
     "data": {
      "text/plain": "<Figure size 640x480 with 1 Axes>",
      "image/png": "[encoded data removed]"
     },
     "metadata": {},
     "output_type": "display_data"
    }
   ],
   "source": [
    "def compute_best_model_counts(predicate_metrics):\n",
    "    predicate_metrics = predicate_metrics.query('Metric == @DECISIVE_METRIC')\n",
    "\n",
    "    model_counts = {\n",
    "        'complex': 0,\n",
    "        'distmult': 0,\n",
    "        'simple': 0,\n",
    "        'transe': 0\n",
    "    }\n",
    "    for predicate_name, metrics_df in predicate_metrics.groupby(by='relation_label'):\n",
    "        best_model = select_best_model(metrics_df, predicate_name)\n",
    "        model_counts[best_model] += 1\n",
    "\n",
    "    return pd.Series(model_counts)\n",
    "\n",
    "\n",
    "def plot_best_model_counts(model_counts, embedding_dim=32):\n",
    "    sns.set_theme(style=SEABORN_THEME)\n",
    "\n",
    "    model_labels = ['ComplEx', 'DistMult', 'SimplE', 'TransE']\n",
    "    if 'complex' not in model_counts.index.values:\n",
    "        model_labels = ['DistMult', 'SimplE', 'TransE']\n",
    "\n",
    "    # Plot best model counts\n",
    "    ax = sns.barplot(data=model_counts)\n",
    "    ax.set_title(f'Predicate counts for which dim{embedding_dim} models have the best\\n{DECISIVE_METRIC} score')\n",
    "    ax.set_ylabel('Predicate Count')\n",
    "    ax.set_xticks(np.arange(len(model_labels)))\n",
    "    ax.set_xticklabels(model_labels)\n",
    "\n",
    "    plt.show()\n",
    "\n",
    "\n",
    "best_model_counts = compute_best_model_counts(dim32_predicate_metrics)\n",
    "plot_best_model_counts(best_model_counts)"
   ],
   "metadata": {
    "collapsed": false,
    "ExecuteTime": {
     "end_time": "2024-01-25T04:06:40.270326278Z",
     "start_time": "2024-01-25T04:06:39.944948754Z"
    }
   },
   "id": "4a38d19c18859b15",
   "execution_count": 89
  },
  {
   "cell_type": "markdown",
   "source": [
    "# Predictions\n",
    "\n",
    "## First Triple Prediction"
   ],
   "metadata": {
    "collapsed": false
   },
   "id": "1a5821109c3ef0a9"
  },
  {
   "cell_type": "code",
   "outputs": [
    {
     "name": "stdout",
     "output_type": "stream",
     "text": [
      "Triple Pattern:  Q24059314 P106 ?o1\n",
      "Original triple: Q24059314 P106 Q628099   ['Connor McLennan', 'occupation', 'association football manager']\n",
      "Best model: simple\n"
     ]
    }
   ],
   "source": [
    "start_predicate = 'P106'  # \"occupation\"\n",
    "s1, p1, o1 = find_train_triple_with_predicate(start_predicate)\n",
    "print(f'Triple Pattern:  {s1} {p1} ?o1')\n",
    "print('Original triple:', format_triple(s1, p1, o1))\n",
    "\n",
    "best_model = select_best_model(dim32_predicate_metrics, p1)\n",
    "print('Best model:', best_model)"
   ],
   "metadata": {
    "collapsed": false,
    "ExecuteTime": {
     "end_time": "2024-01-26T01:39:53.687458215Z",
     "start_time": "2024-01-26T01:39:52.216609359Z"
    }
   },
   "id": "521bd8d9d095bc4d",
   "execution_count": 65
  },
  {
   "cell_type": "code",
   "outputs": [
    {
     "data": {
      "text/plain": "   tail_id     score tail_label   model\n0  4545786  4.730696    Q937857  simple\n1  3414869  4.597007    Q628099  simple\n2  4067161  4.109388    Q747074  simple\n3   333123  3.668683   Q1388231  simple\n4  3741101  3.536046   Q6946022  simple",
      "text/html": "<div>\n<style scoped>\n    .dataframe tbody tr th:only-of-type {\n        vertical-align: middle;\n    }\n\n    .dataframe tbody tr th {\n        vertical-align: top;\n    }\n\n    .dataframe thead th {\n        text-align: right;\n    }\n</style>\n<table border=\"1\" class=\"dataframe\">\n  <thead>\n    <tr style=\"text-align: right;\">\n      <th></th>\n      <th>tail_id</th>\n      <th>score</th>\n      <th>tail_label</th>\n      <th>model</th>\n    </tr>\n  </thead>\n  <tbody>\n    <tr>\n      <th>0</th>\n      <td>4545786</td>\n      <td>4.730696</td>\n      <td>Q937857</td>\n      <td>simple</td>\n    </tr>\n    <tr>\n      <th>1</th>\n      <td>3414869</td>\n      <td>4.597007</td>\n      <td>Q628099</td>\n      <td>simple</td>\n    </tr>\n    <tr>\n      <th>2</th>\n      <td>4067161</td>\n      <td>4.109388</td>\n      <td>Q747074</td>\n      <td>simple</td>\n    </tr>\n    <tr>\n      <th>3</th>\n      <td>333123</td>\n      <td>3.668683</td>\n      <td>Q1388231</td>\n      <td>simple</td>\n    </tr>\n    <tr>\n      <th>4</th>\n      <td>3741101</td>\n      <td>3.536046</td>\n      <td>Q6946022</td>\n      <td>simple</td>\n    </tr>\n  </tbody>\n</table>\n</div>"
     },
     "execution_count": 66,
     "metadata": {},
     "output_type": "execute_result"
    }
   ],
   "source": [
    "first_predictions = predict_tail(best_model, subject=s1, predicate=p1)\n",
    "first_predictions.head()"
   ],
   "metadata": {
    "collapsed": false,
    "ExecuteTime": {
     "end_time": "2024-01-26T01:40:01.785822307Z",
     "start_time": "2024-01-26T01:39:57.366438463Z"
    }
   },
   "id": "f7c110297eb8ee4d",
   "execution_count": 66
  },
  {
   "cell_type": "code",
   "outputs": [
    {
     "name": "stdout",
     "output_type": "stream",
     "text": [
      "?o1 -> Q937857  ['association football player']\n",
      "Predicted triple: Q24059314 P106 Q937857   ['Connor McLennan', 'occupation', 'association football player']\n"
     ]
    }
   ],
   "source": [
    "pred_o1 = first_predictions.iloc[0]['tail_label']\n",
    "print(f'?o1 -> {pred_o1}  {get_wikidata_property_labels([pred_o1])}')\n",
    "print('Predicted triple:', format_triple(s1, p1, pred_o1))"
   ],
   "metadata": {
    "collapsed": false,
    "ExecuteTime": {
     "end_time": "2024-01-26T01:40:04.521545601Z",
     "start_time": "2024-01-26T01:40:04.152355567Z"
    }
   },
   "id": "2799cbbf977ead80",
   "execution_count": 67
  },
  {
   "cell_type": "markdown",
   "source": [
    "## Second Triple Prediction"
   ],
   "metadata": {
    "collapsed": false
   },
   "id": "31a39c81ae817dbd"
  },
  {
   "cell_type": "code",
   "outputs": [
    {
     "name": "stdout",
     "output_type": "stream",
     "text": [
      "Triple Pattern:  Q937857 P31 ?o2\n",
      "Original triple: Q937857 P31 Q28640   ['association football player', 'instance of', 'profession']\n",
      "Best model: simple\n"
     ]
    }
   ],
   "source": [
    "s2, p2, o2 = find_train_triple_with_subject(pred_o1)\n",
    "print(f'Triple Pattern:  {s2} {p2} ?o2')\n",
    "print('Original triple:', format_triple(s2, p2, o2))\n",
    "\n",
    "best_model = select_best_model(dim32_predicate_metrics, p2)\n",
    "print('Best model:', best_model)"
   ],
   "metadata": {
    "collapsed": false,
    "ExecuteTime": {
     "end_time": "2024-01-26T01:40:22.205995398Z",
     "start_time": "2024-01-26T01:40:21.145164222Z"
    }
   },
   "id": "e00116bdd3b8131b",
   "execution_count": 68
  },
  {
   "cell_type": "code",
   "outputs": [
    {
     "data": {
      "text/plain": "   tail_id      score tail_label   model\n0  4311478  10.906454      Q7889  simple\n1  4047662   9.293348      Q7432  simple\n2  1318858   6.898678   Q2198484  simple\n3  2359679   6.827145   Q4430012  simple\n4  2026615   6.714136     Q33506  simple",
      "text/html": "<div>\n<style scoped>\n    .dataframe tbody tr th:only-of-type {\n        vertical-align: middle;\n    }\n\n    .dataframe tbody tr th {\n        vertical-align: top;\n    }\n\n    .dataframe thead th {\n        text-align: right;\n    }\n</style>\n<table border=\"1\" class=\"dataframe\">\n  <thead>\n    <tr style=\"text-align: right;\">\n      <th></th>\n      <th>tail_id</th>\n      <th>score</th>\n      <th>tail_label</th>\n      <th>model</th>\n    </tr>\n  </thead>\n  <tbody>\n    <tr>\n      <th>0</th>\n      <td>4311478</td>\n      <td>10.906454</td>\n      <td>Q7889</td>\n      <td>simple</td>\n    </tr>\n    <tr>\n      <th>1</th>\n      <td>4047662</td>\n      <td>9.293348</td>\n      <td>Q7432</td>\n      <td>simple</td>\n    </tr>\n    <tr>\n      <th>2</th>\n      <td>1318858</td>\n      <td>6.898678</td>\n      <td>Q2198484</td>\n      <td>simple</td>\n    </tr>\n    <tr>\n      <th>3</th>\n      <td>2359679</td>\n      <td>6.827145</td>\n      <td>Q4430012</td>\n      <td>simple</td>\n    </tr>\n    <tr>\n      <th>4</th>\n      <td>2026615</td>\n      <td>6.714136</td>\n      <td>Q33506</td>\n      <td>simple</td>\n    </tr>\n  </tbody>\n</table>\n</div>"
     },
     "execution_count": 69,
     "metadata": {},
     "output_type": "execute_result"
    }
   ],
   "source": [
    "second_predictions = predict_tail(best_model, subject=s2, predicate=p2)\n",
    "second_predictions.head()"
   ],
   "metadata": {
    "collapsed": false,
    "ExecuteTime": {
     "end_time": "2024-01-26T01:40:28.567846095Z",
     "start_time": "2024-01-26T01:40:25.111760568Z"
    }
   },
   "id": "3c44d3516d54b8b1",
   "execution_count": 69
  },
  {
   "cell_type": "code",
   "outputs": [
    {
     "name": "stdout",
     "output_type": "stream",
     "text": [
      "?o2 -> Q7889  ['video game']\n",
      "Predicted triple: Q937857 P31 Q7889   ['association football player', 'instance of', 'video game']\n"
     ]
    }
   ],
   "source": [
    "pred_o2 = second_predictions.iloc[0]['tail_label']\n",
    "print(f'?o2 -> {pred_o2}  {get_wikidata_property_labels([pred_o2])}')\n",
    "print('Predicted triple:', format_triple(s2, p2, pred_o2))"
   ],
   "metadata": {
    "collapsed": false,
    "ExecuteTime": {
     "end_time": "2024-01-26T01:41:03.301171722Z",
     "start_time": "2024-01-26T01:41:02.856046485Z"
    }
   },
   "id": "59aec50323a021f5",
   "execution_count": 70
  },
  {
   "cell_type": "markdown",
   "source": [
    "## Third Triple Prediction"
   ],
   "metadata": {
    "collapsed": false
   },
   "id": "f3e605f9919c87b8"
  },
  {
   "cell_type": "code",
   "outputs": [
    {
     "name": "stdout",
     "output_type": "stream",
     "text": [
      "Triple Pattern:  Q7889 P279 ?o3\n",
      "Original triple: Q7889 P279 Q166142   ['video game', 'subclass of', 'application']\n",
      "Best model: complex\n"
     ]
    }
   ],
   "source": [
    "s3, p3, o3 = find_train_triple_with_subject(pred_o2)\n",
    "print(f'Triple Pattern:  {s3} {p3} ?o3')\n",
    "print(f'Original triple:', format_triple(s3, p3, o3))\n",
    "\n",
    "best_model = select_best_model(dim32_predicate_metrics, p3)\n",
    "print('Best model:', best_model)"
   ],
   "metadata": {
    "collapsed": false,
    "ExecuteTime": {
     "end_time": "2024-01-26T01:41:13.673014944Z",
     "start_time": "2024-01-26T01:41:13.145962296Z"
    }
   },
   "id": "2d861812c8f7379b",
   "execution_count": 72
  },
  {
   "cell_type": "code",
   "outputs": [
    {
     "data": {
      "text/plain": "   tail_id     score tail_label    model\n0  1212112  7.652782  Q20737639  complex\n1  4548870  6.889242    Q940528  complex\n2  3031003  6.748481   Q5444174  complex\n3  2652825  6.433424   Q4912365  complex\n4  1510797  6.375384  Q24884386  complex",
      "text/html": "<div>\n<style scoped>\n    .dataframe tbody tr th:only-of-type {\n        vertical-align: middle;\n    }\n\n    .dataframe tbody tr th {\n        vertical-align: top;\n    }\n\n    .dataframe thead th {\n        text-align: right;\n    }\n</style>\n<table border=\"1\" class=\"dataframe\">\n  <thead>\n    <tr style=\"text-align: right;\">\n      <th></th>\n      <th>tail_id</th>\n      <th>score</th>\n      <th>tail_label</th>\n      <th>model</th>\n    </tr>\n  </thead>\n  <tbody>\n    <tr>\n      <th>0</th>\n      <td>1212112</td>\n      <td>7.652782</td>\n      <td>Q20737639</td>\n      <td>complex</td>\n    </tr>\n    <tr>\n      <th>1</th>\n      <td>4548870</td>\n      <td>6.889242</td>\n      <td>Q940528</td>\n      <td>complex</td>\n    </tr>\n    <tr>\n      <th>2</th>\n      <td>3031003</td>\n      <td>6.748481</td>\n      <td>Q5444174</td>\n      <td>complex</td>\n    </tr>\n    <tr>\n      <th>3</th>\n      <td>2652825</td>\n      <td>6.433424</td>\n      <td>Q4912365</td>\n      <td>complex</td>\n    </tr>\n    <tr>\n      <th>4</th>\n      <td>1510797</td>\n      <td>6.375384</td>\n      <td>Q24884386</td>\n      <td>complex</td>\n    </tr>\n  </tbody>\n</table>\n</div>"
     },
     "execution_count": 73,
     "metadata": {},
     "output_type": "execute_result"
    }
   ],
   "source": [
    "third_predictions = predict_tail(best_model, subject=s3, predicate=p3)\n",
    "third_predictions.head()"
   ],
   "metadata": {
    "collapsed": false,
    "ExecuteTime": {
     "end_time": "2024-01-26T01:41:27.269623872Z",
     "start_time": "2024-01-26T01:41:21.324048330Z"
    }
   },
   "id": "3515c1628c37f382",
   "execution_count": 73
  },
  {
   "cell_type": "code",
   "outputs": [
    {
     "name": "stdout",
     "output_type": "stream",
     "text": [
      "?o3 -> Q20737639  ['Harold Winberg']\n",
      "Predicted triple: Q7889 P279 Q20737639   ['video game', 'subclass of', 'Harold Winberg']\n"
     ]
    }
   ],
   "source": [
    "pred_o3 = third_predictions.iloc[0]['tail_label']\n",
    "print(f'?o3 -> {pred_o3}  {get_wikidata_property_labels([pred_o3])}')\n",
    "print('Predicted triple:', format_triple(s3, p3, pred_o3))"
   ],
   "metadata": {
    "collapsed": false,
    "ExecuteTime": {
     "end_time": "2024-01-26T01:41:35.138724065Z",
     "start_time": "2024-01-26T01:41:34.751314661Z"
    }
   },
   "id": "1e01619e26a1b5b0",
   "execution_count": 74
  },
  {
   "cell_type": "markdown",
   "source": [
    "## Two-Step Link Prediction using TOP K predictions"
   ],
   "metadata": {
    "collapsed": false
   },
   "id": "5fc8a1fa41a27dba"
  },
  {
   "cell_type": "code",
   "outputs": [],
   "source": [
    "def do_object_link_prediction(subj, pred, level):\n",
    "    formatted_triple = format_triple(subj, pred, \"?o\" + str(level))\n",
    "    print(f'Triple Pattern (Level {level}):  {formatted_triple}')\n",
    "    \n",
    "    best_model = select_best_model(dim32_predicate_metrics, pred)\n",
    "    print(f'Best model for {pred}: {best_model}\\n')\n",
    "    \n",
    "    predictions = predict_tail(best_model, subject=subj, predicate=pred)\n",
    "    \n",
    "    labeled_predictions = predictions.assign(wd_label=get_wikidata_property_labels(predictions['tail_label'].values))\n",
    "    print(f'Top {TOP_K} Predictions for ?o{level}:   {formatted_triple}')\n",
    "    print(labeled_predictions[['tail_label', 'wd_label', 'model', 'score']], '\\n')\n",
    "    \n",
    "    return labeled_predictions, best_model\n",
    "\n",
    "def do_two_step_link_prediction(predicate1, predicate2):\n",
    "    s1, p1, _ = find_train_triple_with_predicate(predicate1)\n",
    "    o1_predictions, best_model_o1 = do_object_link_prediction(s1, p1, 1)\n",
    "    \n",
    "    two_step_predictions = []\n",
    "    for rank, (index, o_pred) in enumerate(o1_predictions.iterrows(), start=1):\n",
    "        print(f'Predicting for Rank {rank}: {o_pred[\"tail_label\"]}\\n')\n",
    "        o2_predictions, best_model_o2 = do_object_link_prediction(o_pred['tail_label'], predicate2, 2)\n",
    "        \n",
    "        two_step_predictions.append(pd.DataFrame({\n",
    "            'o1_label': o_pred['tail_label'],\n",
    "            'o1_wd_label': o_pred['wd_label'],\n",
    "            'o1_model': best_model_o1,\n",
    "            'o2_label': o2_predictions['tail_label'],\n",
    "            'o2_wd_label': o2_predictions['wd_label'],\n",
    "            'o2_model': best_model_o2,\n",
    "            'o1_score': o_pred['score'],\n",
    "            'o2_score': o2_predictions['score'],\n",
    "            'combined_rank': rank * np.arange(1, len(o2_predictions) + 1)\n",
    "        }))\n",
    "        \n",
    "    return pd.concat(two_step_predictions).sort_values(by='combined_rank')"
   ],
   "metadata": {
    "collapsed": false,
    "ExecuteTime": {
     "end_time": "2024-01-26T01:32:36.140904746Z",
     "start_time": "2024-01-26T01:32:36.100106719Z"
    }
   },
   "id": "904a5868656244f7",
   "execution_count": 60
  },
  {
   "cell_type": "code",
   "outputs": [
    {
     "name": "stdout",
     "output_type": "stream",
     "text": [
      "Triple Pattern (Level 1):  Q360687 P413 ?o1   ['Fernando Santos', 'position played on team / speciality']\n",
      "Best model for P413: transe\n",
      "Top 10 Predictions for ?o1:   Q360687 P413 ?o1   ['Fernando Santos', 'position played on team / speciality']\n",
      "  tail_label                 wd_label   model      score\n",
      "0    Q193592               midfielder  transe -10.438572\n",
      "1    Q280658                  forward  transe -10.586307\n",
      "2    Q528145               linebacker  transe -10.636091\n",
      "3   Q2304909               defenseman  transe -10.727001\n",
      "4    Q201330               goalkeeper  transe -10.753001\n",
      "5   Q7740370  The Horticulture Center  transe -10.783266\n",
      "6    Q212413              point guard  transe -10.798618\n",
      "7   Q1317534               goaltender  transe -10.815829\n",
      "8    Q171401                   futsal  transe -10.822495\n",
      "9    Q462471            power forward  transe -10.835232 \n",
      "\n",
      "Predicting for Rank 1: Q193592\n",
      "\n",
      "Triple Pattern (Level 2):  Q193592 P641 ?o2   ['midfielder', 'sport']\n",
      "Best model for P641: transe\n",
      "Top 10 Predictions for ?o2:   Q193592 P641 ?o2   ['midfielder', 'sport']\n",
      "  tail_label          wd_label   model     score\n",
      "0    Q193592        midfielder  transe -8.305082\n",
      "1    Q280658           forward  transe -8.665577\n",
      "2    Q278835            Edward  transe -8.789646\n",
      "3   Q4927937            Robert  transe -8.861197\n",
      "4   Q2583758            centre  transe -8.978176\n",
      "5    Q201330        goalkeeper  transe -9.041956\n",
      "6    Q336286          defender  transe -9.106815\n",
      "7   Q2550304  defensive tackle  transe -9.113298\n",
      "8   Q1158477             Henry  transe -9.178090\n",
      "9   Q1249148           Richard  transe -9.186041 \n",
      "\n",
      "Predicting for Rank 2: Q280658\n",
      "\n",
      "Triple Pattern (Level 2):  Q280658 P641 ?o2   ['forward', 'sport']\n",
      "Best model for P641: transe\n",
      "Top 10 Predictions for ?o2:   Q280658 P641 ?o2   ['forward', 'sport']\n",
      "  tail_label    wd_label   model     score\n",
      "0    Q280658     forward  transe -8.305082\n",
      "1    Q193592  midfielder  transe -8.699808\n",
      "2   Q2583758      centre  transe -8.989740\n",
      "3    Q201330  goalkeeper  transe -8.994033\n",
      "4    Q336286    defender  transe -9.036213\n",
      "5    Q278835      Edward  transe -9.094489\n",
      "6   Q4927937      Robert  transe -9.222734\n",
      "7  Q18201469       Carol  transe -9.280818\n",
      "8    Q183018       bandy  transe -9.305434\n",
      "9  Q16428906      Thomas  transe -9.308934 \n",
      "\n",
      "Predicting for Rank 3: Q528145\n",
      "\n",
      "Triple Pattern (Level 2):  Q528145 P641 ?o2   ['linebacker', 'sport']\n",
      "Best model for P641: transe\n",
      "Top 10 Predictions for ?o2:   Q528145 P641 ?o2   ['linebacker', 'sport']\n",
      "  tail_label                                           wd_label   model     score\n",
      "0    Q528145                                         linebacker  transe -8.305082\n",
      "1    Q193592                                         midfielder  transe -8.586836\n",
      "2   Q2550304                                   defensive tackle  transe -8.646597\n",
      "3    Q222052                                             center  transe -8.786720\n",
      "4    Q462471                                      power forward  transe -8.851301\n",
      "5     Q25113                                              guard  transe -8.873529\n",
      "6   Q1672798  Republic of Ireland national under-21 football...  transe -8.884430\n",
      "7    Q280658                                            forward  transe -8.939011\n",
      "8   Q5375780                                                end  transe -8.940383\n",
      "9   Q2583758                                             centre  transe -8.945189 \n",
      "\n",
      "Predicting for Rank 4: Q2304909\n",
      "\n",
      "Triple Pattern (Level 2):  Q2304909 P641 ?o2   ['defenseman', 'sport']\n",
      "Best model for P641: transe\n",
      "Top 10 Predictions for ?o2:   Q2304909 P641 ?o2   ['defenseman', 'sport']\n",
      "  tail_label                         wd_label   model     score\n",
      "0    Q280658                          forward  transe -8.059307\n",
      "1   Q2304909                       defenseman  transe -8.305082\n",
      "2    Q193592                       midfielder  transe -8.566586\n",
      "3   Q2583758                           centre  transe -8.588515\n",
      "4    Q336286                         defender  transe -8.611921\n",
      "5    Q201330                       goalkeeper  transe -8.664663\n",
      "6   Q4927937                           Robert  transe -8.724792\n",
      "7   Q7740370          The Horticulture Center  transe -8.736922\n",
      "8    Q278835                           Edward  transe -8.786759\n",
      "9   Q5004072  Byers Station Historic District  transe -8.897951 \n",
      "\n",
      "Predicting for Rank 5: Q201330\n",
      "\n",
      "Triple Pattern (Level 2):  Q201330 P641 ?o2   ['goalkeeper', 'sport']\n",
      "Best model for P641: transe\n",
      "Top 10 Predictions for ?o2:   Q201330 P641 ?o2   ['goalkeeper', 'sport']\n",
      "  tail_label          wd_label   model     score\n",
      "0    Q193592        midfielder  transe -8.224636\n",
      "1    Q280658           forward  transe -8.247760\n",
      "2    Q201330        goalkeeper  transe -8.305083\n",
      "3    Q336286          defender  transe -8.574068\n",
      "4   Q4927937            Robert  transe -8.719010\n",
      "5    Q278835            Edward  transe -8.803471\n",
      "6   Q2583758            centre  transe -8.879210\n",
      "7  Q18201469             Carol  transe -8.901670\n",
      "8   Q1158477             Henry  transe -8.944929\n",
      "9   Q2550304  defensive tackle  transe -9.011866 \n",
      "\n",
      "Predicting for Rank 6: Q7740370\n",
      "\n",
      "Triple Pattern (Level 2):  Q7740370 P641 ?o2   ['The Horticulture Center', 'sport']\n",
      "Best model for P641: transe\n",
      "Top 10 Predictions for ?o2:   Q7740370 P641 ?o2   ['The Horticulture Center', 'sport']\n",
      "  tail_label                 wd_label   model     score\n",
      "0   Q7740370  The Horticulture Center  transe -8.305082\n",
      "1    Q193592               midfielder  transe -8.767086\n",
      "2   Q4927937                   Robert  transe -8.830431\n",
      "3    Q278835                   Edward  transe -8.853718\n",
      "4    Q280658                  forward  transe -8.863934\n",
      "5   Q1249148                  Richard  transe -9.010114\n",
      "6   Q2304909               defenseman  transe -9.028296\n",
      "7     Q50372              Deogyang-gu  transe -9.054287\n",
      "8  Q16428906                   Thomas  transe -9.139489\n",
      "9    Q171401                   futsal  transe -9.177006 \n",
      "\n",
      "Predicting for Rank 7: Q212413\n",
      "\n",
      "Triple Pattern (Level 2):  Q212413 P641 ?o2   ['point guard', 'sport']\n",
      "Best model for P641: transe\n",
      "Top 10 Predictions for ?o2:   Q212413 P641 ?o2   ['point guard', 'sport']\n",
      "  tail_label                           wd_label   model     score\n",
      "0    Q193592                         midfielder  transe -7.869309\n",
      "1    Q336286                           defender  transe -8.204330\n",
      "2    Q528145                         linebacker  transe -8.218826\n",
      "3    Q212413                        point guard  transe -8.305082\n",
      "4   Q2550304                   defensive tackle  transe -8.308355\n",
      "5    Q201330                         goalkeeper  transe -8.386867\n",
      "6     Q38568                       São Paulo FC  transe -8.412971\n",
      "7    Q280658                            forward  transe -8.420573\n",
      "8    Q495299                   Galatasaray S.K.  transe -8.456952\n",
      "9    Q330039  Cape Verde national football team  transe -8.468979 \n",
      "\n",
      "Predicting for Rank 8: Q1317534\n",
      "\n",
      "Triple Pattern (Level 2):  Q1317534 P641 ?o2   ['goaltender', 'sport']\n",
      "Best model for P641: transe\n",
      "Top 10 Predictions for ?o2:   Q1317534 P641 ?o2   ['goaltender', 'sport']\n",
      "  tail_label          wd_label   model     score\n",
      "0    Q193592        midfielder  transe -7.839226\n",
      "1    Q280658           forward  transe -8.046362\n",
      "2   Q2550304  defensive tackle  transe -8.120080\n",
      "3    Q336286          defender  transe -8.213360\n",
      "4   Q1317534        goaltender  transe -8.305082\n",
      "5   Q2583758            centre  transe -8.358365\n",
      "6    Q201330        goalkeeper  transe -8.439045\n",
      "7    Q528145        linebacker  transe -8.592020\n",
      "8   Q2304909        defenseman  transe -8.630770\n",
      "9    Q204632   Gaelic football  transe -8.677120 \n",
      "\n",
      "Predicting for Rank 9: Q171401\n",
      "\n",
      "Triple Pattern (Level 2):  Q171401 P641 ?o2   ['futsal', 'sport']\n",
      "Best model for P641: transe\n",
      "Top 10 Predictions for ?o2:   Q171401 P641 ?o2   ['futsal', 'sport']\n",
      "  tail_label                           wd_label   model     score\n",
      "0    Q171401                             futsal  transe -8.305082\n",
      "1   Q2583758                             centre  transe -8.801971\n",
      "2    Q193592                         midfielder  transe -8.850166\n",
      "3    Q280658                            forward  transe -8.967022\n",
      "4  Q20982624  FC Chkalovets-Olimpik Novosibirsk  transe -9.042704\n",
      "5   Q7617313                   Stillwater River  transe -9.125880\n",
      "6   Q5290382                        Formby F.C.  transe -9.135957\n",
      "7   Q2550304                   defensive tackle  transe -9.149609\n",
      "8    Q278835                             Edward  transe -9.157472\n",
      "9    Q231200                            netball  transe -9.226324 \n",
      "\n",
      "Predicting for Rank 10: Q462471\n",
      "\n",
      "Triple Pattern (Level 2):  Q462471 P641 ?o2   ['power forward', 'sport']\n",
      "Best model for P641: transe\n",
      "Top 10 Predictions for ?o2:   Q462471 P641 ?o2   ['power forward', 'sport']\n",
      "  tail_label                           wd_label   model     score\n",
      "0   Q2583758                             centre  transe -8.192171\n",
      "1    Q528145                         linebacker  transe -8.196864\n",
      "2    Q193592                         midfielder  transe -8.211771\n",
      "3    Q462471                      power forward  transe -8.305082\n",
      "4   Q2550304                   defensive tackle  transe -8.382113\n",
      "5    Q280658                            forward  transe -8.441525\n",
      "6     Q25113                              guard  transe -8.605886\n",
      "7    Q171401                             futsal  transe -8.615181\n",
      "8    Q330039  Cape Verde national football team  transe -8.655159\n",
      "9    Q222052                             center  transe -8.675602 \n"
     ]
    },
    {
     "data": {
      "text/plain": "    o1_label    o1_wd_label o1_model o2_label                        o2_wd_label o2_model   o1_score  o2_score  combined_rank\n0    Q193592     midfielder   transe  Q193592                         midfielder   transe -10.438572 -8.305082              1\n0    Q280658        forward   transe  Q280658                            forward   transe -10.586307 -8.305082              2\n1    Q193592     midfielder   transe  Q280658                            forward   transe -10.438572 -8.665577              2\n2    Q193592     midfielder   transe  Q278835                             Edward   transe -10.438572 -8.789646              3\n0    Q528145     linebacker   transe  Q528145                         linebacker   transe -10.636091 -8.305082              3\n..       ...            ...      ...      ...                                ...      ...        ...       ...            ...\n9   Q1317534     goaltender   transe  Q204632                    Gaelic football   transe -10.815829 -8.677120             80\n8    Q171401         futsal   transe  Q278835                             Edward   transe -10.822495 -9.157472             81\n9    Q171401         futsal   transe  Q231200                            netball   transe -10.822495 -9.226324             90\n8    Q462471  power forward   transe  Q330039  Cape Verde national football team   transe -10.835232 -8.655159             90\n9    Q462471  power forward   transe  Q222052                             center   transe -10.835232 -8.675602            100\n\n[100 rows x 9 columns]",
      "text/html": "<div>\n<style scoped>\n    .dataframe tbody tr th:only-of-type {\n        vertical-align: middle;\n    }\n\n    .dataframe tbody tr th {\n        vertical-align: top;\n    }\n\n    .dataframe thead th {\n        text-align: right;\n    }\n</style>\n<table border=\"1\" class=\"dataframe\">\n  <thead>\n    <tr style=\"text-align: right;\">\n      <th></th>\n      <th>o1_label</th>\n      <th>o1_wd_label</th>\n      <th>o1_model</th>\n      <th>o2_label</th>\n      <th>o2_wd_label</th>\n      <th>o2_model</th>\n      <th>o1_score</th>\n      <th>o2_score</th>\n      <th>combined_rank</th>\n    </tr>\n  </thead>\n  <tbody>\n    <tr>\n      <th>0</th>\n      <td>Q193592</td>\n      <td>midfielder</td>\n      <td>transe</td>\n      <td>Q193592</td>\n      <td>midfielder</td>\n      <td>transe</td>\n      <td>-10.438572</td>\n      <td>-8.305082</td>\n      <td>1</td>\n    </tr>\n    <tr>\n      <th>0</th>\n      <td>Q280658</td>\n      <td>forward</td>\n      <td>transe</td>\n      <td>Q280658</td>\n      <td>forward</td>\n      <td>transe</td>\n      <td>-10.586307</td>\n      <td>-8.305082</td>\n      <td>2</td>\n    </tr>\n    <tr>\n      <th>1</th>\n      <td>Q193592</td>\n      <td>midfielder</td>\n      <td>transe</td>\n      <td>Q280658</td>\n      <td>forward</td>\n      <td>transe</td>\n      <td>-10.438572</td>\n      <td>-8.665577</td>\n      <td>2</td>\n    </tr>\n    <tr>\n      <th>2</th>\n      <td>Q193592</td>\n      <td>midfielder</td>\n      <td>transe</td>\n      <td>Q278835</td>\n      <td>Edward</td>\n      <td>transe</td>\n      <td>-10.438572</td>\n      <td>-8.789646</td>\n      <td>3</td>\n    </tr>\n    <tr>\n      <th>0</th>\n      <td>Q528145</td>\n      <td>linebacker</td>\n      <td>transe</td>\n      <td>Q528145</td>\n      <td>linebacker</td>\n      <td>transe</td>\n      <td>-10.636091</td>\n      <td>-8.305082</td>\n      <td>3</td>\n    </tr>\n    <tr>\n      <th>...</th>\n      <td>...</td>\n      <td>...</td>\n      <td>...</td>\n      <td>...</td>\n      <td>...</td>\n      <td>...</td>\n      <td>...</td>\n      <td>...</td>\n      <td>...</td>\n    </tr>\n    <tr>\n      <th>9</th>\n      <td>Q1317534</td>\n      <td>goaltender</td>\n      <td>transe</td>\n      <td>Q204632</td>\n      <td>Gaelic football</td>\n      <td>transe</td>\n      <td>-10.815829</td>\n      <td>-8.677120</td>\n      <td>80</td>\n    </tr>\n    <tr>\n      <th>8</th>\n      <td>Q171401</td>\n      <td>futsal</td>\n      <td>transe</td>\n      <td>Q278835</td>\n      <td>Edward</td>\n      <td>transe</td>\n      <td>-10.822495</td>\n      <td>-9.157472</td>\n      <td>81</td>\n    </tr>\n    <tr>\n      <th>9</th>\n      <td>Q171401</td>\n      <td>futsal</td>\n      <td>transe</td>\n      <td>Q231200</td>\n      <td>netball</td>\n      <td>transe</td>\n      <td>-10.822495</td>\n      <td>-9.226324</td>\n      <td>90</td>\n    </tr>\n    <tr>\n      <th>8</th>\n      <td>Q462471</td>\n      <td>power forward</td>\n      <td>transe</td>\n      <td>Q330039</td>\n      <td>Cape Verde national football team</td>\n      <td>transe</td>\n      <td>-10.835232</td>\n      <td>-8.655159</td>\n      <td>90</td>\n    </tr>\n    <tr>\n      <th>9</th>\n      <td>Q462471</td>\n      <td>power forward</td>\n      <td>transe</td>\n      <td>Q222052</td>\n      <td>center</td>\n      <td>transe</td>\n      <td>-10.835232</td>\n      <td>-8.675602</td>\n      <td>100</td>\n    </tr>\n  </tbody>\n</table>\n<p>100 rows × 9 columns</p>\n</div>"
     },
     "execution_count": 61,
     "metadata": {},
     "output_type": "execute_result"
    }
   ],
   "source": [
    "# 1st Example predictions\n",
    "#   Q2414363 P413 ?o1\n",
    "#   ?o2      P641 ?o2\n",
    "pred_1 = 'P413'  # \"position played on team / speciality\"\n",
    "pred_2 = 'P641'  # \"sport\"\n",
    "\n",
    "with pd.option_context('display.expand_frame_repr', False):\n",
    "    example1_predictions = do_two_step_link_prediction(pred_1, pred_2)\n",
    "\n",
    "example1_predictions"
   ],
   "metadata": {
    "collapsed": false,
    "ExecuteTime": {
     "end_time": "2024-01-26T01:33:58.620614199Z",
     "start_time": "2024-01-26T01:33:05.345032323Z"
    }
   },
   "id": "deff2235c74cf43e",
   "execution_count": 61
  },
  {
   "cell_type": "code",
   "outputs": [
    {
     "name": "stdout",
     "output_type": "stream",
     "text": [
      "Triple Pattern (Level 1):  Q51812 P47 ?o1   ['Alberobello', 'shares border with']\n",
      "Best model for P47: transe\n",
      "Top 10 Predictions for ?o1:   Q51812 P47 ?o1   ['Alberobello', 'shares border with']\n",
      "  tail_label                                      wd_label   model     score\n",
      "0     Q51812                                   Alberobello  transe -0.357723\n",
      "1   Q2401930                   San Rafael La Independencia  transe -2.792868\n",
      "2   Q1205591                                        Yugawa  transe -2.897184\n",
      "3   Q5376936  Energy Independence and Security Act of 2007  transe -2.956004\n",
      "4     Q91292                                Piancastagnaio  transe -2.959749\n",
      "5   Q1010019                                       Cumnock  transe -2.972485\n",
      "6    Q296217                                          Mori  transe -2.997579\n",
      "7    Q954528                                      Cudworth  transe -3.001194\n",
      "8   Q2972484                   Cimetière Sainte-Marguerite  transe -3.007226\n",
      "9   Q3469831                                      Eidapere  transe -3.017097 \n",
      "\n",
      "Predicting for Rank 1: Q51812\n",
      "\n",
      "Triple Pattern (Level 2):  Q51812 P421 ?o2   ['Alberobello', 'located in time zone']\n",
      "Best model for P421: transe\n",
      "Top 10 Predictions for ?o2:   Q51812 P421 ?o2   ['Alberobello', 'located in time zone']\n",
      "  tail_label             wd_label   model     score\n",
      "0      Q6574            UTC±00:00  transe -5.371396\n",
      "1      Q2204            UTC−08:00  transe -5.551477\n",
      "2      Q5385            UTC−06:00  transe -5.728927\n",
      "3      Q2212            UTC−07:00  transe -5.781951\n",
      "4      Q6760            UTC+03:00  transe -5.820690\n",
      "5     Q30192  Greenwich Mean Time  transe -5.844428\n",
      "6   Q7406656   Salvatore Giannone  transe -5.905591\n",
      "7      Q5762            UTC−04:00  transe -5.907580\n",
      "8      Q6723            UTC+02:00  transe -5.943233\n",
      "9      Q6655            UTC+01:00  transe -5.947974 \n",
      "\n",
      "Predicting for Rank 2: Q2401930\n",
      "\n",
      "Triple Pattern (Level 2):  Q2401930 P421 ?o2   ['San Rafael La Independencia', 'located in time zone']\n",
      "Best model for P421: transe\n",
      "Top 10 Predictions for ?o2:   Q2401930 P421 ?o2   ['San Rafael La Independencia', 'located in time zone']\n",
      "  tail_label                               wd_label   model     score\n",
      "0   Q2086913                      Central Time Zone  transe -5.540226\n",
      "1      Q2212                              UTC−07:00  transe -5.860288\n",
      "2      Q5762                              UTC−04:00  transe -5.901874\n",
      "3      Q2204                              UTC−08:00  transe -5.935105\n",
      "4      Q6760                              UTC+03:00  transe -5.976955\n",
      "5      Q5390                              UTC−05:00  transe -6.004524\n",
      "6  Q10566535  Lucius Roscius Aelianus Maecius Celer  transe -6.013234\n",
      "7   Q5512084                                    G.O  transe -6.053584\n",
      "8      Q6723                              UTC+02:00  transe -6.070841\n",
      "9   Q8008259                      William E. Jordan  transe -6.076440 \n",
      "\n",
      "Predicting for Rank 3: Q1205591\n",
      "\n",
      "Triple Pattern (Level 2):  Q1205591 P421 ?o2   ['Yugawa', 'located in time zone']\n",
      "Best model for P421: transe\n",
      "Top 10 Predictions for ?o2:   Q1205591 P421 ?o2   ['Yugawa', 'located in time zone']\n",
      "  tail_label                  wd_label   model     score\n",
      "0    Q190252     Eastern European Time  transe -6.222285\n",
      "1   Q5656292  Hardress Nathaniel Swaim  transe -6.282429\n",
      "2  Q10891225               Toshio Irie  transe -6.354465\n",
      "3   Q3167399       Jean-Marc Jurkovitz  transe -6.376351\n",
      "4   Q6759831             Margaret Reid  transe -6.487329\n",
      "5   Q8063776               Zach Ashton  transe -6.491549\n",
      "6   Q7406656        Salvatore Giannone  transe -6.495116\n",
      "7      Q7069                 UTC+11:00  transe -6.497459\n",
      "8   Q2086913         Central Time Zone  transe -6.501740\n",
      "9   Q6761337               Maria Laina  transe -6.527061 \n",
      "\n",
      "Predicting for Rank 4: Q5376936\n",
      "\n",
      "Triple Pattern (Level 2):  Q5376936 P421 ?o2   ['Energy Independence and Security Act of 2007', 'located in time zone']\n",
      "Best model for P421: transe\n",
      "Top 10 Predictions for ?o2:   Q5376936 P421 ?o2   ['Energy Independence and Security Act of 2007', 'located in time zone']\n",
      "  tail_label                wd_label   model     score\n",
      "0   Q1979175         Roberto Vásquez  transe -6.704768\n",
      "1   Q5042327  Carlos Manuel Santiago  transe -6.845100\n",
      "2   Q1378322          Phil Wachsmann  transe -6.848140\n",
      "3   Q2086913       Central Time Zone  transe -6.867816\n",
      "4      Q5390               UTC−05:00  transe -6.881287\n",
      "5      Q2204               UTC−08:00  transe -6.931790\n",
      "6   Q1811819              Lee Harris  transe -6.941507\n",
      "7      Q2212               UTC−07:00  transe -6.941926\n",
      "8   Q6373278                    Karp  transe -6.952736\n",
      "9  Q20010738           Kim Sung-joon  transe -6.953876 \n",
      "\n",
      "Predicting for Rank 5: Q91292\n",
      "\n",
      "Triple Pattern (Level 2):  Q91292 P421 ?o2   ['Piancastagnaio', 'located in time zone']\n",
      "Best model for P421: transe\n",
      "Top 10 Predictions for ?o2:   Q91292 P421 ?o2   ['Piancastagnaio', 'located in time zone']\n",
      "  tail_label           wd_label   model     score\n",
      "0      Q6906          UTC+06:00  transe -5.571324\n",
      "1    Q847142  Pacific Time Zone  transe -5.678067\n",
      "2      Q5390          UTC−05:00  transe -5.722573\n",
      "3    Q941023  Eastern Time Zone  transe -5.756588\n",
      "4      Q6760          UTC+03:00  transe -5.768238\n",
      "5   Q5094089      Chet Faliszek  transe -5.877656\n",
      "6   Q2444214    Maurice Macaire  transe -5.890610\n",
      "7   Q6242076        John Jordan  transe -5.991987\n",
      "8   Q5441034   Federico Miranda  transe -5.996794\n",
      "9      Q6806          UTC+05:00  transe -6.003163 \n",
      "\n",
      "Predicting for Rank 6: Q1010019\n",
      "\n",
      "Triple Pattern (Level 2):  Q1010019 P421 ?o2   ['Cumnock', 'located in time zone']\n",
      "Best model for P421: transe\n",
      "Top 10 Predictions for ?o2:   Q1010019 P421 ?o2   ['Cumnock', 'located in time zone']\n",
      "  tail_label              wd_label   model     score\n",
      "0      Q6574             UTC±00:00  transe -5.869951\n",
      "1      Q6513             UTC−03:00  transe -6.396299\n",
      "2      Q6760             UTC+03:00  transe -6.406737\n",
      "3      Q2204             UTC−08:00  transe -6.421401\n",
      "4      Q5762             UTC−04:00  transe -6.472205\n",
      "5    Q941023     Eastern Time Zone  transe -6.554924\n",
      "6   Q1184931            Ola Gjeilo  transe -6.604832\n",
      "7      Q2212             UTC−07:00  transe -6.620315\n",
      "8      Q6906             UTC+06:00  transe -6.639400\n",
      "9    Q188684  Edmund II of England  transe -6.663451 \n",
      "\n",
      "Predicting for Rank 7: Q296217\n",
      "\n",
      "Triple Pattern (Level 2):  Q296217 P421 ?o2   ['Mori', 'located in time zone']\n",
      "Best model for P421: transe\n",
      "Top 10 Predictions for ?o2:   Q296217 P421 ?o2   ['Mori', 'located in time zone']\n",
      "  tail_label           wd_label   model     score\n",
      "0      Q2212          UTC−07:00  transe -5.352290\n",
      "1      Q5762          UTC−04:00  transe -5.460860\n",
      "2      Q2204          UTC−08:00  transe -5.679392\n",
      "3      Q5385          UTC−06:00  transe -5.700301\n",
      "4      Q6723          UTC+02:00  transe -5.721129\n",
      "5      Q7041          UTC+09:00  transe -5.730696\n",
      "6      Q6655          UTC+01:00  transe -5.733309\n",
      "7      Q6760          UTC+03:00  transe -5.765493\n",
      "8    Q728938   Trongsa District  transe -5.773854\n",
      "9   Q2086913  Central Time Zone  transe -5.777057 \n",
      "\n",
      "Predicting for Rank 8: Q954528\n",
      "\n",
      "Triple Pattern (Level 2):  Q954528 P421 ?o2   ['Cudworth', 'located in time zone']\n",
      "Best model for P421: transe\n",
      "Top 10 Predictions for ?o2:   Q954528 P421 ?o2   ['Cudworth', 'located in time zone']\n",
      "  tail_label                 wd_label   model     score\n",
      "0      Q6574                UTC±00:00  transe -5.764960\n",
      "1      Q2204                UTC−08:00  transe -6.069621\n",
      "2   Q2392297  Iran Standard Time Zone  transe -6.426382\n",
      "3      Q6760                UTC+03:00  transe -6.438385\n",
      "4   Q4932940              Bob Johnson  transe -6.469906\n",
      "5      Q7041                UTC+09:00  transe -6.516108\n",
      "6      Q5762                UTC−04:00  transe -6.687791\n",
      "7     Q30192      Greenwich Mean Time  transe -6.705830\n",
      "8    Q941023        Eastern Time Zone  transe -6.707617\n",
      "9   Q7805340            time in India  transe -6.712072 \n",
      "\n",
      "Predicting for Rank 9: Q2972484\n",
      "\n",
      "Triple Pattern (Level 2):  Q2972484 P421 ?o2   ['Cimetière Sainte-Marguerite', 'located in time zone']\n",
      "Best model for P421: transe\n",
      "Top 10 Predictions for ?o2:   Q2972484 P421 ?o2   ['Cimetière Sainte-Marguerite', 'located in time zone']\n",
      "  tail_label                      wd_label   model     score\n",
      "0      Q6574                     UTC±00:00  transe -5.320769\n",
      "1      Q6760                     UTC+03:00  transe -5.498391\n",
      "2      Q5390                     UTC−05:00  transe -5.530547\n",
      "3    Q941023             Eastern Time Zone  transe -5.541070\n",
      "4   Q7805340                 time in India  transe -5.541125\n",
      "5      Q6513                     UTC−03:00  transe -5.556643\n",
      "6      Q6655                     UTC+01:00  transe -5.605817\n",
      "7      Q6940                     UTC+07:00  transe -5.607187\n",
      "8    Q207020  Central European Summer Time  transe -5.696478\n",
      "9      Q2212                     UTC−07:00  transe -5.700778 \n",
      "\n",
      "Predicting for Rank 10: Q3469831\n",
      "\n",
      "Triple Pattern (Level 2):  Q3469831 P421 ?o2   ['Eidapere', 'located in time zone']\n",
      "Best model for P421: transe\n",
      "Top 10 Predictions for ?o2:   Q3469831 P421 ?o2   ['Eidapere', 'located in time zone']\n",
      "  tail_label                      wd_label   model     score\n",
      "0    Q440395                 Steve Yzerman  transe -5.921009\n",
      "1   Q7406656            Salvatore Giannone  transe -5.921713\n",
      "2   Q2838759                  Allyn Condon  transe -6.030961\n",
      "3      Q6760                     UTC+03:00  transe -6.037440\n",
      "4   Q2086913             Central Time Zone  transe -6.168070\n",
      "5      Q2163                     UTC−10:00  transe -6.253591\n",
      "6      Q5390                     UTC−05:00  transe -6.256751\n",
      "7    Q941023             Eastern Time Zone  transe -6.273299\n",
      "8      Q6655                     UTC+01:00  transe -6.296632\n",
      "9    Q207020  Central European Summer Time  transe -6.326161 \n"
     ]
    },
    {
     "data": {
      "text/plain": "    o1_label                  o1_wd_label o1_model  o2_label                   o2_wd_label o2_model  o1_score  o2_score  combined_rank\n0     Q51812                  Alberobello   transe     Q6574                     UTC±00:00   transe -0.357723 -5.371396              1\n0   Q2401930  San Rafael La Independencia   transe  Q2086913             Central Time Zone   transe -2.792868 -5.540226              2\n1     Q51812                  Alberobello   transe     Q2204                     UTC−08:00   transe -0.357723 -5.551477              2\n2     Q51812                  Alberobello   transe     Q5385                     UTC−06:00   transe -0.357723 -5.728927              3\n0   Q1205591                       Yugawa   transe   Q190252         Eastern European Time   transe -2.897184 -6.222285              3\n..       ...                          ...      ...       ...                           ...      ...       ...       ...            ...\n9    Q954528                     Cudworth   transe  Q7805340                 time in India   transe -3.001194 -6.712072             80\n8   Q2972484  Cimetière Sainte-Marguerite   transe   Q207020  Central European Summer Time   transe -3.007226 -5.696478             81\n9   Q2972484  Cimetière Sainte-Marguerite   transe     Q2212                     UTC−07:00   transe -3.007226 -5.700778             90\n8   Q3469831                     Eidapere   transe     Q6655                     UTC+01:00   transe -3.017097 -6.296632             90\n9   Q3469831                     Eidapere   transe   Q207020  Central European Summer Time   transe -3.017097 -6.326161            100\n\n[100 rows x 9 columns]",
      "text/html": "<div>\n<style scoped>\n    .dataframe tbody tr th:only-of-type {\n        vertical-align: middle;\n    }\n\n    .dataframe tbody tr th {\n        vertical-align: top;\n    }\n\n    .dataframe thead th {\n        text-align: right;\n    }\n</style>\n<table border=\"1\" class=\"dataframe\">\n  <thead>\n    <tr style=\"text-align: right;\">\n      <th></th>\n      <th>o1_label</th>\n      <th>o1_wd_label</th>\n      <th>o1_model</th>\n      <th>o2_label</th>\n      <th>o2_wd_label</th>\n      <th>o2_model</th>\n      <th>o1_score</th>\n      <th>o2_score</th>\n      <th>combined_rank</th>\n    </tr>\n  </thead>\n  <tbody>\n    <tr>\n      <th>0</th>\n      <td>Q51812</td>\n      <td>Alberobello</td>\n      <td>transe</td>\n      <td>Q6574</td>\n      <td>UTC±00:00</td>\n      <td>transe</td>\n      <td>-0.357723</td>\n      <td>-5.371396</td>\n      <td>1</td>\n    </tr>\n    <tr>\n      <th>0</th>\n      <td>Q2401930</td>\n      <td>San Rafael La Independencia</td>\n      <td>transe</td>\n      <td>Q2086913</td>\n      <td>Central Time Zone</td>\n      <td>transe</td>\n      <td>-2.792868</td>\n      <td>-5.540226</td>\n      <td>2</td>\n    </tr>\n    <tr>\n      <th>1</th>\n      <td>Q51812</td>\n      <td>Alberobello</td>\n      <td>transe</td>\n      <td>Q2204</td>\n      <td>UTC−08:00</td>\n      <td>transe</td>\n      <td>-0.357723</td>\n      <td>-5.551477</td>\n      <td>2</td>\n    </tr>\n    <tr>\n      <th>2</th>\n      <td>Q51812</td>\n      <td>Alberobello</td>\n      <td>transe</td>\n      <td>Q5385</td>\n      <td>UTC−06:00</td>\n      <td>transe</td>\n      <td>-0.357723</td>\n      <td>-5.728927</td>\n      <td>3</td>\n    </tr>\n    <tr>\n      <th>0</th>\n      <td>Q1205591</td>\n      <td>Yugawa</td>\n      <td>transe</td>\n      <td>Q190252</td>\n      <td>Eastern European Time</td>\n      <td>transe</td>\n      <td>-2.897184</td>\n      <td>-6.222285</td>\n      <td>3</td>\n    </tr>\n    <tr>\n      <th>...</th>\n      <td>...</td>\n      <td>...</td>\n      <td>...</td>\n      <td>...</td>\n      <td>...</td>\n      <td>...</td>\n      <td>...</td>\n      <td>...</td>\n      <td>...</td>\n    </tr>\n    <tr>\n      <th>9</th>\n      <td>Q954528</td>\n      <td>Cudworth</td>\n      <td>transe</td>\n      <td>Q7805340</td>\n      <td>time in India</td>\n      <td>transe</td>\n      <td>-3.001194</td>\n      <td>-6.712072</td>\n      <td>80</td>\n    </tr>\n    <tr>\n      <th>8</th>\n      <td>Q2972484</td>\n      <td>Cimetière Sainte-Marguerite</td>\n      <td>transe</td>\n      <td>Q207020</td>\n      <td>Central European Summer Time</td>\n      <td>transe</td>\n      <td>-3.007226</td>\n      <td>-5.696478</td>\n      <td>81</td>\n    </tr>\n    <tr>\n      <th>9</th>\n      <td>Q2972484</td>\n      <td>Cimetière Sainte-Marguerite</td>\n      <td>transe</td>\n      <td>Q2212</td>\n      <td>UTC−07:00</td>\n      <td>transe</td>\n      <td>-3.007226</td>\n      <td>-5.700778</td>\n      <td>90</td>\n    </tr>\n    <tr>\n      <th>8</th>\n      <td>Q3469831</td>\n      <td>Eidapere</td>\n      <td>transe</td>\n      <td>Q6655</td>\n      <td>UTC+01:00</td>\n      <td>transe</td>\n      <td>-3.017097</td>\n      <td>-6.296632</td>\n      <td>90</td>\n    </tr>\n    <tr>\n      <th>9</th>\n      <td>Q3469831</td>\n      <td>Eidapere</td>\n      <td>transe</td>\n      <td>Q207020</td>\n      <td>Central European Summer Time</td>\n      <td>transe</td>\n      <td>-3.017097</td>\n      <td>-6.326161</td>\n      <td>100</td>\n    </tr>\n  </tbody>\n</table>\n<p>100 rows × 9 columns</p>\n</div>"
     },
     "execution_count": 63,
     "metadata": {},
     "output_type": "execute_result"
    }
   ],
   "source": [
    "# 2nd Example predictions\n",
    "#   Q471987 P47  ?o1\n",
    "#   ?o2     P421 ?o2\n",
    "pred_1 = 'P47'   # \"shares border with\"\n",
    "pred_2 = 'P421'  # \"located in time zone\"\n",
    "\n",
    "with pd.option_context('display.expand_frame_repr', False):\n",
    "    example2_predictions = do_two_step_link_prediction(pred_1, pred_2)\n",
    "\n",
    "example2_predictions"
   ],
   "metadata": {
    "collapsed": false,
    "ExecuteTime": {
     "end_time": "2024-01-26T01:36:06.022860126Z",
     "start_time": "2024-01-26T01:35:14.092342589Z"
    }
   },
   "id": "f1fc5a6e3dea87fe",
   "execution_count": 63
  },
  {
   "cell_type": "code",
   "outputs": [
    {
     "name": "stdout",
     "output_type": "stream",
     "text": [
      "Triple Pattern (Level 1):  Q21715916 P1344 ?o1   ['Kristian Johansen', 'participant in']\n",
      "Best model for P1344: distmult\n",
      "Top 10 Predictions for ?o1:   Q21715916 P1344 ?o1   ['Kristian Johansen', 'participant in']\n",
      "  tail_label                     wd_label     model     score\n",
      "0      Q8567         2008 Summer Olympics  distmult  0.038311\n",
      "1   Q2484236          Chalkanoras Idaliou  distmult  0.037833\n",
      "2      Q8531         1996 Summer Olympics  distmult  0.037552\n",
      "3   Q2697893                    ASIL Lysi  distmult  0.037368\n",
      "4    Q959341     Enosis Neon Paralimni FC  distmult  0.037356\n",
      "5    Q131378                   APOEL F.C.  distmult  0.036838\n",
      "6    Q473248  Cyprus Football Association  distmult  0.036824\n",
      "7   Q3874673           Iraklis Gerolakkou  distmult  0.036739\n",
      "8   Q4651318                 AEK Kythreas  distmult  0.036613\n",
      "9   Q3560290               Orfeas Nicosia  distmult  0.036570 \n",
      "\n",
      "Predicting for Rank 1: Q8567\n",
      "Triple Pattern (Level 2):  Q8567 P641 ?o2   ['2008 Summer Olympics', 'sport']\n",
      "Best model for P641: transe\n",
      "Top 10 Predictions for ?o2:   Q8567 P641 ?o2   ['2008 Summer Olympics', 'sport']\n",
      "  tail_label                  wd_label   model     score\n",
      "0  Q17165362  long track speed skating  transe -7.275528\n",
      "1      Q9668      2002 Winter Olympics  transe -7.518282\n",
      "2      Q2736      association football  transe -7.598813\n",
      "3  Q28124743      William Ogburn House  transe -7.659081\n",
      "4      Q9615      1948 Winter Olympics  transe -7.684001\n",
      "5    Q176883       2010 FIFA World Cup  transe -7.727294\n",
      "6    Q216613             Nordic skiing  transe -7.740282\n",
      "7    Q629850               3785 Kitami  transe -7.749484\n",
      "8   Q2959993     Bothel and Threapland  transe -7.773195\n",
      "9    Q855688   2000 Summer Paralympics  transe -7.793491 \n",
      "\n",
      "Predicting for Rank 2: Q2484236\n",
      "Triple Pattern (Level 2):  Q2484236 P641 ?o2   ['Chalkanoras Idaliou', 'sport']\n",
      "Best model for P641: transe\n",
      "Top 10 Predictions for ?o2:   Q2484236 P641 ?o2   ['Chalkanoras Idaliou', 'sport']\n",
      "  tail_label                                    wd_label   model     score\n",
      "0    Q222052                                      center  transe -6.205412\n",
      "1    Q425270                                 Al-Arabi SC  transe -6.251894\n",
      "2   Q2583758                                      centre  transe -6.271323\n",
      "3    Q846362                                  FC Vitebsk  transe -6.337546\n",
      "4    Q219120             Associação Atlética Ponte Preta  transe -6.359150\n",
      "5    Q741898                                    CA Pinto  transe -6.366476\n",
      "6   Q1237961                            Scarborough F.C.  transe -6.394855\n",
      "7    Q462471                               power forward  transe -6.407379\n",
      "8     Q47762  England national association football team  transe -6.443962\n",
      "9    Q152424         East Germany national football team  transe -6.445184 \n",
      "\n",
      "Predicting for Rank 3: Q8531\n",
      "\n",
      "Triple Pattern (Level 2):  Q8531 P641 ?o2   ['1996 Summer Olympics', 'sport']\n",
      "Best model for P641: transe\n",
      "Top 10 Predictions for ?o2:   Q8531 P641 ?o2   ['1996 Summer Olympics', 'sport']\n",
      "  tail_label                                       wd_label   model     score\n",
      "0  Q17165362                       long track speed skating  transe -7.564586\n",
      "1    Q511410                                 Dimidiochromis  transe -7.945713\n",
      "2      Q2736                           association football  transe -7.998765\n",
      "3    Q271195                                    Delhi Metro  transe -8.003825\n",
      "4      Q9668                           2002 Winter Olympics  transe -8.036110\n",
      "5   Q1116438                        1982 Commonwealth Games  transe -8.116595\n",
      "6      Q9632                           1956 Winter Olympics  transe -8.175488\n",
      "7   Q1116512                        1990 Commonwealth Games  transe -8.189265\n",
      "8    Q216613                                  Nordic skiing  transe -8.199079\n",
      "9  Q11884970  modern pentathlon at the 2016 Summer Olympics  transe -8.202360 \n",
      "\n",
      "Predicting for Rank 4: Q2697893\n",
      "\n",
      "Triple Pattern (Level 2):  Q2697893 P641 ?o2   ['ASIL Lysi', 'sport']\n",
      "Best model for P641: transe\n",
      "Top 10 Predictions for ?o2:   Q2697893 P641 ?o2   ['ASIL Lysi', 'sport']\n",
      "  tail_label                                           wd_label   model     score\n",
      "0   Q2446294  Norway national under-21 association football ...  transe -6.149038\n",
      "1    Q797530                                          FC Istres  transe -6.186181\n",
      "2     Q47762         England national association football team  transe -6.256401\n",
      "3    Q994827                                          FC Sopron  transe -6.291010\n",
      "4    Q327238                                         Toronto FC  transe -6.297277\n",
      "5    Q425270                                        Al-Arabi SC  transe -6.356578\n",
      "6    Q152424                East Germany national football team  transe -6.371734\n",
      "7    Q222052                                             center  transe -6.373282\n",
      "8   Q5161645                                 Connecticut Wolves  transe -6.378298\n",
      "9    Q372599                                          Sivasspor  transe -6.405105 \n",
      "\n",
      "Predicting for Rank 5: Q959341\n",
      "\n",
      "Triple Pattern (Level 2):  Q959341 P641 ?o2   ['Enosis Neon Paralimni FC', 'sport']\n",
      "Best model for P641: transe\n",
      "Top 10 Predictions for ?o2:   Q959341 P641 ?o2   ['Enosis Neon Paralimni FC', 'sport']\n",
      "  tail_label                                    wd_label   model     score\n",
      "0    Q222052                                      center  transe -6.692467\n",
      "1    Q105861                                  VfL Bochum  transe -6.704471\n",
      "2    Q372599                                   Sivasspor  transe -6.765927\n",
      "3   Q2266580       Italy national under-19 football team  transe -6.806293\n",
      "4     Q47533                                 Once Caldas  transe -6.810208\n",
      "5     Q47762  England national association football team  transe -6.817440\n",
      "6    Q219120             Associação Atlética Ponte Preta  transe -6.827494\n",
      "7    Q462471                               power forward  transe -6.862656\n",
      "8   Q2038093                       FC Shakhtar-2 Donetsk  transe -6.877343\n",
      "9    Q741898                                    CA Pinto  transe -6.886781 \n",
      "\n",
      "Predicting for Rank 6: Q131378\n",
      "Triple Pattern (Level 2):  Q131378 P641 ?o2   ['APOEL F.C.', 'sport']\n",
      "Best model for P641: transe\n",
      "Top 10 Predictions for ?o2:   Q131378 P641 ?o2   ['APOEL F.C.', 'sport']\n",
      "  tail_label                                           wd_label   model     score\n",
      "0   Q7708918                                      Thackley F.C.  transe -6.355696\n",
      "1    Q222052                                             center  transe -6.411650\n",
      "2    Q527487                                        Alicante CF  transe -6.456872\n",
      "3    Q425270                                        Al-Arabi SC  transe -6.491447\n",
      "4    Q537201                                       Malavan F.C.  transe -6.494148\n",
      "5    Q219120                    Associação Atlética Ponte Preta  transe -6.496422\n",
      "6    Q152424                East Germany national football team  transe -6.501271\n",
      "7   Q3589754  Australia national under-17 association footba...  transe -6.519845\n",
      "8     Q47762         England national association football team  transe -6.523640\n",
      "9    Q741898                                           CA Pinto  transe -6.534710 \n",
      "\n",
      "Predicting for Rank 7: Q473248\n",
      "\n",
      "Triple Pattern (Level 2):  Q473248 P641 ?o2   ['Cyprus Football Association', 'sport']\n",
      "Best model for P641: transe\n",
      "Top 10 Predictions for ?o2:   Q473248 P641 ?o2   ['Cyprus Football Association', 'sport']\n",
      "  tail_label                wd_label   model     score\n",
      "0    Q938409              HKK Široki  transe -6.960401\n",
      "1   Q2583758                  centre  transe -7.005939\n",
      "2    Q280658                 forward  transe -7.021645\n",
      "3    Q231200                 netball  transe -7.040094\n",
      "4    Q193592              midfielder  transe -7.056173\n",
      "5      Q7291               badminton  transe -7.064253\n",
      "6   Q1143358               shortstop  transe -7.128983\n",
      "7   Q2304909              defenseman  transe -7.181399\n",
      "8    Q131359  professional wrestling  transe -7.195770\n",
      "9   Q1050571                 catcher  transe -7.235664 \n",
      "\n",
      "Predicting for Rank 8: Q3874673\n",
      "\n",
      "Triple Pattern (Level 2):  Q3874673 P641 ?o2   ['Iraklis Gerolakkou', 'sport']\n",
      "Best model for P641: transe\n",
      "Top 10 Predictions for ?o2:   Q3874673 P641 ?o2   ['Iraklis Gerolakkou', 'sport']\n",
      "  tail_label               wd_label   model     score\n",
      "0     Q31920               swimming  transe -5.582546\n",
      "1    Q206989         shooting sport  transe -5.594985\n",
      "2    Q192431          speed skating  transe -5.623126\n",
      "3  Q12115698      bullseye shooting  transe -5.635873\n",
      "4    Q465014  trampoline gymnastics  transe -5.687409\n",
      "5       Q542              athletics  transe -5.708492\n",
      "6    Q154293           MSV Duisburg  transe -5.796051\n",
      "7     Q38108         figure skating  transe -5.848994\n",
      "8     Q11420                   judo  transe -5.871090\n",
      "9    Q108429                archery  transe -5.970754 \n",
      "\n",
      "Predicting for Rank 9: Q4651318\n",
      "Triple Pattern (Level 2):  Q4651318 P641 ?o2   ['AEK Kythreas', 'sport']\n",
      "Best model for P641: transe\n",
      "Top 10 Predictions for ?o2:   Q4651318 P641 ?o2   ['AEK Kythreas', 'sport']\n",
      "  tail_label                     wd_label   model     score\n",
      "0     Q38108               figure skating  transe -4.788862\n",
      "1    Q192431                speed skating  transe -4.822996\n",
      "2    Q286504                   Zamalek SC  transe -4.857885\n",
      "3       Q542                    athletics  transe -4.974624\n",
      "4      Q7291                    badminton  transe -5.040977\n",
      "5    Q206989               shooting sport  transe -5.054982\n",
      "6   Q2028870  Havant & Waterlooville F.C.  transe -5.127370\n",
      "7     Q11420                         judo  transe -5.175275\n",
      "8     Q31920                     swimming  transe -5.185285\n",
      "9      Q7707                   water polo  transe -5.230999 \n",
      "\n",
      "Predicting for Rank 10: Q3560290\n",
      "Triple Pattern (Level 2):  Q3560290 P641 ?o2   ['Orfeas Nicosia', 'sport']\n",
      "Best model for P641: transe\n",
      "Top 10 Predictions for ?o2:   Q3560290 P641 ?o2   ['Orfeas Nicosia', 'sport']\n",
      "  tail_label               wd_label   model     score\n",
      "0       Q542              athletics  transe -5.081796\n",
      "1    Q192431          speed skating  transe -5.112314\n",
      "2  Q12115698      bullseye shooting  transe -5.300676\n",
      "3     Q31920               swimming  transe -5.314126\n",
      "4   Q1934817           road running  transe -5.441336\n",
      "5     Q11420                   judo  transe -5.461919\n",
      "6    Q938409             HKK Široki  transe -5.498623\n",
      "7    Q206989         shooting sport  transe -5.518471\n",
      "8   Q5212771        Fleet Town F.C.  transe -5.522221\n",
      "9    Q465014  trampoline gymnastics  transe -5.523302 \n"
     ]
    },
    {
     "data": {
      "text/plain": "    o1_label           o1_wd_label  o1_model   o2_label               o2_wd_label o2_model  o1_score  o2_score  combined_rank\n0      Q8567  2008 Summer Olympics  distmult  Q17165362  long track speed skating   transe  0.038311 -7.275528              1\n0   Q2484236   Chalkanoras Idaliou  distmult    Q222052                    center   transe  0.037833 -6.205412              2\n1      Q8567  2008 Summer Olympics  distmult      Q9668      2002 Winter Olympics   transe  0.038311 -7.518282              2\n2      Q8567  2008 Summer Olympics  distmult      Q2736      association football   transe  0.038311 -7.598813              3\n0      Q8531  1996 Summer Olympics  distmult  Q17165362  long track speed skating   transe  0.037552 -7.564586              3\n..       ...                   ...       ...        ...                       ...      ...       ...       ...            ...\n9   Q3874673    Iraklis Gerolakkou  distmult    Q108429                   archery   transe  0.036739 -5.970754             80\n8   Q4651318          AEK Kythreas  distmult     Q31920                  swimming   transe  0.036613 -5.185285             81\n9   Q4651318          AEK Kythreas  distmult      Q7707                water polo   transe  0.036613 -5.230999             90\n8   Q3560290        Orfeas Nicosia  distmult   Q5212771           Fleet Town F.C.   transe  0.036570 -5.522221             90\n9   Q3560290        Orfeas Nicosia  distmult    Q465014     trampoline gymnastics   transe  0.036570 -5.523302            100\n\n[100 rows x 9 columns]",
      "text/html": "<div>\n<style scoped>\n    .dataframe tbody tr th:only-of-type {\n        vertical-align: middle;\n    }\n\n    .dataframe tbody tr th {\n        vertical-align: top;\n    }\n\n    .dataframe thead th {\n        text-align: right;\n    }\n</style>\n<table border=\"1\" class=\"dataframe\">\n  <thead>\n    <tr style=\"text-align: right;\">\n      <th></th>\n      <th>o1_label</th>\n      <th>o1_wd_label</th>\n      <th>o1_model</th>\n      <th>o2_label</th>\n      <th>o2_wd_label</th>\n      <th>o2_model</th>\n      <th>o1_score</th>\n      <th>o2_score</th>\n      <th>combined_rank</th>\n    </tr>\n  </thead>\n  <tbody>\n    <tr>\n      <th>0</th>\n      <td>Q8567</td>\n      <td>2008 Summer Olympics</td>\n      <td>distmult</td>\n      <td>Q17165362</td>\n      <td>long track speed skating</td>\n      <td>transe</td>\n      <td>0.038311</td>\n      <td>-7.275528</td>\n      <td>1</td>\n    </tr>\n    <tr>\n      <th>0</th>\n      <td>Q2484236</td>\n      <td>Chalkanoras Idaliou</td>\n      <td>distmult</td>\n      <td>Q222052</td>\n      <td>center</td>\n      <td>transe</td>\n      <td>0.037833</td>\n      <td>-6.205412</td>\n      <td>2</td>\n    </tr>\n    <tr>\n      <th>1</th>\n      <td>Q8567</td>\n      <td>2008 Summer Olympics</td>\n      <td>distmult</td>\n      <td>Q9668</td>\n      <td>2002 Winter Olympics</td>\n      <td>transe</td>\n      <td>0.038311</td>\n      <td>-7.518282</td>\n      <td>2</td>\n    </tr>\n    <tr>\n      <th>2</th>\n      <td>Q8567</td>\n      <td>2008 Summer Olympics</td>\n      <td>distmult</td>\n      <td>Q2736</td>\n      <td>association football</td>\n      <td>transe</td>\n      <td>0.038311</td>\n      <td>-7.598813</td>\n      <td>3</td>\n    </tr>\n    <tr>\n      <th>0</th>\n      <td>Q8531</td>\n      <td>1996 Summer Olympics</td>\n      <td>distmult</td>\n      <td>Q17165362</td>\n      <td>long track speed skating</td>\n      <td>transe</td>\n      <td>0.037552</td>\n      <td>-7.564586</td>\n      <td>3</td>\n    </tr>\n    <tr>\n      <th>...</th>\n      <td>...</td>\n      <td>...</td>\n      <td>...</td>\n      <td>...</td>\n      <td>...</td>\n      <td>...</td>\n      <td>...</td>\n      <td>...</td>\n      <td>...</td>\n    </tr>\n    <tr>\n      <th>9</th>\n      <td>Q3874673</td>\n      <td>Iraklis Gerolakkou</td>\n      <td>distmult</td>\n      <td>Q108429</td>\n      <td>archery</td>\n      <td>transe</td>\n      <td>0.036739</td>\n      <td>-5.970754</td>\n      <td>80</td>\n    </tr>\n    <tr>\n      <th>8</th>\n      <td>Q4651318</td>\n      <td>AEK Kythreas</td>\n      <td>distmult</td>\n      <td>Q31920</td>\n      <td>swimming</td>\n      <td>transe</td>\n      <td>0.036613</td>\n      <td>-5.185285</td>\n      <td>81</td>\n    </tr>\n    <tr>\n      <th>9</th>\n      <td>Q4651318</td>\n      <td>AEK Kythreas</td>\n      <td>distmult</td>\n      <td>Q7707</td>\n      <td>water polo</td>\n      <td>transe</td>\n      <td>0.036613</td>\n      <td>-5.230999</td>\n      <td>90</td>\n    </tr>\n    <tr>\n      <th>8</th>\n      <td>Q3560290</td>\n      <td>Orfeas Nicosia</td>\n      <td>distmult</td>\n      <td>Q5212771</td>\n      <td>Fleet Town F.C.</td>\n      <td>transe</td>\n      <td>0.036570</td>\n      <td>-5.522221</td>\n      <td>90</td>\n    </tr>\n    <tr>\n      <th>9</th>\n      <td>Q3560290</td>\n      <td>Orfeas Nicosia</td>\n      <td>distmult</td>\n      <td>Q465014</td>\n      <td>trampoline gymnastics</td>\n      <td>transe</td>\n      <td>0.036570</td>\n      <td>-5.523302</td>\n      <td>100</td>\n    </tr>\n  </tbody>\n</table>\n<p>100 rows × 9 columns</p>\n</div>"
     },
     "execution_count": 64,
     "metadata": {},
     "output_type": "execute_result"
    }
   ],
   "source": [
    "# 3rd Example predictions\n",
    "#   Q27064158 P1344 ?o1\n",
    "#   ?o2       P641  ?o2\n",
    "pred_1 = 'P1344'   # \"participant in\"\n",
    "pred_2 = 'P641'    # \"sport\"\n",
    "\n",
    "with pd.option_context('display.expand_frame_repr', False):\n",
    "    example3_predictions = do_two_step_link_prediction(pred_1, pred_2)\n",
    "\n",
    "example3_predictions"
   ],
   "metadata": {
    "collapsed": false,
    "ExecuteTime": {
     "end_time": "2024-01-26T01:37:06.213528442Z",
     "start_time": "2024-01-26T01:36:10.381939823Z"
    }
   },
   "id": "6313c0ead0c28f9a",
   "execution_count": 64
  },
  {
   "cell_type": "code",
   "outputs": [],
   "source": [],
   "metadata": {
    "collapsed": false
   },
   "id": "39edf78278c570cc"
  }
 ],
 "metadata": {
  "kernelspec": {
   "display_name": "Python 3",
   "language": "python",
   "name": "python3"
  },
  "language_info": {
   "codemirror_mode": {
    "name": "ipython",
    "version": 2
   },
   "file_extension": ".py",
   "mimetype": "text/x-python",
   "name": "python",
   "nbconvert_exporter": "python",
   "pygments_lexer": "ipython2",
   "version": "2.7.6"
  }
 },
 "nbformat": 4,
 "nbformat_minor": 5
}
