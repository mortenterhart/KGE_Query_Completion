{
 "cells": [
  {
   "cell_type": "code",
   "outputs": [],
   "source": [
    "from typing import Literal\n",
    "\n",
    "import numpy as np\n",
    "import pandas as pd\n",
    "import requests\n",
    "import torch\n",
    "import seaborn as sns\n",
    "import matplotlib.pyplot as plt\n",
    "from pykeen.predict import predict_target\n",
    "from pykeen.triples import TriplesFactory"
   ],
   "metadata": {
    "collapsed": false,
    "ExecuteTime": {
     "end_time": "2024-02-01T15:51:46.385274063Z",
     "start_time": "2024-02-01T15:51:42.778753864Z"
    }
   },
   "id": "536afcf141031ad4",
   "execution_count": 1
  },
  {
   "cell_type": "markdown",
   "source": [
    "## Constants"
   ],
   "metadata": {
    "collapsed": false
   },
   "id": "31cf9e6028cd3260"
  },
  {
   "cell_type": "code",
   "outputs": [],
   "source": [
    "DECISIVE_METRIC = 'hits_at_10'\n",
    "DECISIVE_METRIC_OPTIMUM = 'max'\n",
    "\n",
    "# Number of top k predictions to keep for generating\n",
    "# new triple patterns\n",
    "TOP_K = 10\n",
    "\n",
    "# Set Seaborn theme\n",
    "SEABORN_THEME = 'darkgrid'\n",
    "sns.set_theme(style=SEABORN_THEME)"
   ],
   "metadata": {
    "collapsed": false,
    "ExecuteTime": {
     "end_time": "2024-02-01T15:51:56.934523799Z",
     "start_time": "2024-02-01T15:51:56.932436845Z"
    }
   },
   "id": "e9c332e14909103b",
   "execution_count": 2
  },
  {
   "cell_type": "markdown",
   "source": [
    "## Load Wikidata5M"
   ],
   "metadata": {
    "collapsed": false
   },
   "id": "3953607d233ba0aa"
  },
  {
   "cell_type": "code",
   "outputs": [],
   "source": [
    "SubsetType = Literal['train', 'valid', 'test']\n",
    "\n",
    "\n",
    "def load_wikidata5m_dataset(subset_type: SubsetType):\n",
    "    return pd.read_csv(f'dataset/wikidata5m/wikidata5m_transductive_{subset_type}.txt', sep='\\t', names=['S', 'P', 'O'])\n",
    "\n",
    "\n",
    "wikidata5m_train = load_wikidata5m_dataset('train')\n",
    "wikidata5m_valid = load_wikidata5m_dataset('valid')\n",
    "wikidata5m_test = load_wikidata5m_dataset('test')"
   ],
   "metadata": {
    "collapsed": false,
    "ExecuteTime": {
     "end_time": "2024-02-01T15:52:12.148203054Z",
     "start_time": "2024-02-01T15:52:00.011835776Z"
    }
   },
   "id": "d764557a4b191b59",
   "execution_count": 3
  },
  {
   "cell_type": "markdown",
   "source": [
    "## Load trained models and mappings"
   ],
   "metadata": {
    "collapsed": false
   },
   "id": "91433df74ba54ee3"
  },
  {
   "cell_type": "code",
   "execution_count": 4,
   "id": "initial_id",
   "metadata": {
    "collapsed": true,
    "ExecuteTime": {
     "end_time": "2024-02-01T15:52:54.448920911Z",
     "start_time": "2024-02-01T15:52:12.188760536Z"
    }
   },
   "outputs": [],
   "source": [
    "def get_trained_models():\n",
    "    return {\n",
    "        'complex': torch.load('embeddings/dim_32/complex/trained_model.pkl'),\n",
    "        'distmult': torch.load('embeddings/dim_32/distmult/trained_model.pkl'),\n",
    "        'simple': torch.load('embeddings/dim_32/simple/trained_model.pkl'),\n",
    "        'transe': torch.load('embeddings/dim_32/transe/trained_model.pkl')\n",
    "    }\n",
    "\n",
    "\n",
    "def get_trained_entity_mappings():\n",
    "    return {\n",
    "        'complex': TriplesFactory.from_path_binary('embeddings/dim_32/complex/training_triples'),\n",
    "        'distmult': TriplesFactory.from_path_binary('embeddings/dim_32/distmult/training_triples'),\n",
    "        'simple': TriplesFactory.from_path_binary('embeddings/dim_32/simple/training_triples'),\n",
    "        'transe': TriplesFactory.from_path_binary('embeddings/dim_32/transe/training_triples')\n",
    "    }\n",
    "\n",
    "\n",
    "trained_models = get_trained_models()\n",
    "entity_mappings = get_trained_entity_mappings()"
   ]
  },
  {
   "cell_type": "markdown",
   "source": [
    "## Load predicate metrics"
   ],
   "metadata": {
    "collapsed": false
   },
   "id": "813c76ba58ae4a09"
  },
  {
   "cell_type": "code",
   "outputs": [],
   "source": [
    "dim32_predicate_metrics = pd.read_csv('metrics/predicate_metrics.csv')\n",
    "\n",
    "# Only consider realistic values, evaluated on both ends\n",
    "dim32_predicate_metrics = dim32_predicate_metrics.query('Type == \"realistic\" and Side == \"both\"')"
   ],
   "metadata": {
    "collapsed": false,
    "ExecuteTime": {
     "end_time": "2024-02-01T15:52:54.536671164Z",
     "start_time": "2024-02-01T15:52:54.448770569Z"
    }
   },
   "id": "38058e763601ae21",
   "execution_count": 5
  },
  {
   "cell_type": "markdown",
   "source": [
    "## Utilities"
   ],
   "metadata": {
    "collapsed": false
   },
   "id": "27894876f152a5f3"
  },
  {
   "cell_type": "code",
   "outputs": [],
   "source": [
    "def get_wikidata_property_labels(property_ids: list) -> dict:\n",
    "    wikidata_api = 'https://www.wikidata.org/w/api.php'\n",
    "    params = {\n",
    "        'action': 'wbgetentities',\n",
    "        'ids': '|'.join(property_ids),\n",
    "        'languages': 'en',\n",
    "        'props': 'labels',\n",
    "        'format': 'json'\n",
    "    }\n",
    "\n",
    "    response = requests.get(wikidata_api, params).json()\n",
    "\n",
    "    property_labels = []\n",
    "    for pid in property_ids:\n",
    "        property_labels.append(response['entities'][pid]['labels']['en']['value'])\n",
    "\n",
    "    return property_labels\n",
    "\n",
    "\n",
    "def format_triple(subject, predicate, obj):\n",
    "    if obj.startswith('?o'):\n",
    "        return f'{subject} {predicate} {obj}   {get_wikidata_property_labels([subject, predicate])}'\n",
    "\n",
    "    return f'{subject} {predicate} {obj}   {get_wikidata_property_labels([subject, predicate, obj])}'"
   ],
   "metadata": {
    "collapsed": false,
    "ExecuteTime": {
     "end_time": "2024-02-01T15:52:54.544624131Z",
     "start_time": "2024-02-01T15:52:54.542576510Z"
    }
   },
   "id": "67dcf53a7eb989ee",
   "execution_count": 6
  },
  {
   "cell_type": "markdown",
   "source": [
    "## Functions"
   ],
   "metadata": {
    "collapsed": false
   },
   "id": "7282f4f247d7618e"
  },
  {
   "cell_type": "code",
   "outputs": [],
   "source": [
    "def find_train_triple_with_predicate(predicate_name):\n",
    "    triples = wikidata5m_train.query('P == @predicate_name')\n",
    "\n",
    "    if len(triples) > 0:\n",
    "        i = np.random.randint(len(triples))\n",
    "        random_triple = tuple(triples.iloc[i][['S', 'P', 'O']])\n",
    "        return random_triple\n",
    "    else:\n",
    "        print(f'Error: No triples found for predicate {predicate_name} in training set')\n",
    "\n",
    "\n",
    "def find_train_triple_with_subject(subject_name):\n",
    "    triples = wikidata5m_train.query('S == @subject_name')\n",
    "\n",
    "    if len(triples) > 0:\n",
    "        i = np.random.randint(len(triples))\n",
    "        random_triple = tuple(triples.iloc[i][['S', 'P', 'O']])\n",
    "        return random_triple\n",
    "    else:\n",
    "        print(f'Error: No triples found for subject {subject_name} in training set')\n",
    "\n",
    "\n",
    "def select_best_model(predicate_metrics, predicate_name):\n",
    "    metrics_df = predicate_metrics.query('Metric == @DECISIVE_METRIC and relation_label == @predicate_name')\n",
    "\n",
    "    optimal_metric = None\n",
    "    if DECISIVE_METRIC_OPTIMUM == 'min':\n",
    "        optimal_metric = metrics_df.loc[metrics_df['Value'].idxmin()]\n",
    "    elif DECISIVE_METRIC_OPTIMUM == 'max':\n",
    "        optimal_metric = metrics_df.loc[metrics_df['Value'].idxmax()]\n",
    "\n",
    "    return optimal_metric['model']\n",
    "\n",
    "\n",
    "def predict_tail(model_name, subject, predicate):\n",
    "    model = trained_models[model_name]\n",
    "    triples_factory = entity_mappings[model_name]\n",
    "\n",
    "    return process_predictions(\n",
    "        predict_target(\n",
    "            model=model,\n",
    "            head=subject,\n",
    "            relation=predicate,\n",
    "            tail=None,\n",
    "            triples_factory=triples_factory\n",
    "        ), model_name)\n",
    "\n",
    "\n",
    "def process_predictions(predictions, model_name):\n",
    "    predictions_df = predictions.df.assign(model=model_name)\n",
    "    predictions_df = predictions_df.sort_values(by='score', ascending=False, ignore_index=True)\n",
    "    return predictions_df.head(n=TOP_K)"
   ],
   "metadata": {
    "collapsed": false,
    "ExecuteTime": {
     "end_time": "2024-02-01T15:52:54.550462753Z",
     "start_time": "2024-02-01T15:52:54.546653127Z"
    }
   },
   "id": "ac0254bebb4a6e87",
   "execution_count": 7
  },
  {
   "cell_type": "markdown",
   "source": [
    "## Best Model Counts"
   ],
   "metadata": {
    "collapsed": false
   },
   "id": "2c691e50bea1b994"
  },
  {
   "cell_type": "code",
   "outputs": [
    {
     "data": {
      "text/plain": "<Figure size 640x480 with 1 Axes>",
      "image/png": "[encoded data removed]"
     },
     "metadata": {},
     "output_type": "display_data"
    }
   ],
   "source": [
    "def compute_best_model_counts(predicate_metrics):\n",
    "    predicate_metrics = predicate_metrics.query('Metric == @DECISIVE_METRIC')\n",
    "\n",
    "    model_counts = {\n",
    "        'complex': 0,\n",
    "        'distmult': 0,\n",
    "        'simple': 0,\n",
    "        'transe': 0\n",
    "    }\n",
    "    for predicate_name, metrics_df in predicate_metrics.groupby(by='relation_label'):\n",
    "        best_model = select_best_model(metrics_df, predicate_name)\n",
    "        model_counts[best_model] += 1\n",
    "\n",
    "    return pd.Series(model_counts)\n",
    "\n",
    "\n",
    "def plot_best_model_counts(model_counts, embedding_dim=32):\n",
    "    sns.set_theme(style=SEABORN_THEME)\n",
    "\n",
    "    model_labels = ['ComplEx', 'DistMult', 'SimplE', 'TransE']\n",
    "    if 'complex' not in model_counts.index.values:\n",
    "        model_labels = ['DistMult', 'SimplE', 'TransE']\n",
    "\n",
    "    # Plot best model counts\n",
    "    ax = sns.barplot(data=model_counts)\n",
    "    ax.set_title(f'Predicate counts for which dim{embedding_dim} models have the best\\n{DECISIVE_METRIC} score')\n",
    "    ax.set_ylabel('Predicate Count')\n",
    "    ax.set_xticks(np.arange(len(model_labels)))\n",
    "    ax.set_xticklabels(model_labels)\n",
    "\n",
    "    plt.show()\n",
    "\n",
    "\n",
    "best_model_counts = compute_best_model_counts(dim32_predicate_metrics)\n",
    "plot_best_model_counts(best_model_counts)"
   ],
   "metadata": {
    "collapsed": false,
    "ExecuteTime": {
     "end_time": "2024-01-25T04:06:40.270326278Z",
     "start_time": "2024-01-25T04:06:39.944948754Z"
    }
   },
   "id": "4a38d19c18859b15",
   "execution_count": 89
  },
  {
   "cell_type": "markdown",
   "source": [
    "# Predictions\n",
    "\n",
    "## First Triple Prediction"
   ],
   "metadata": {
    "collapsed": false
   },
   "id": "1a5821109c3ef0a9"
  },
  {
   "cell_type": "code",
   "outputs": [
    {
     "name": "stdout",
     "output_type": "stream",
     "text": [
      "Triple Pattern:  Q24059314 P106 ?o1\n",
      "Original triple: Q24059314 P106 Q628099   ['Connor McLennan', 'occupation', 'association football manager']\n",
      "Best model: simple\n"
     ]
    }
   ],
   "source": [
    "start_predicate = 'P106'  # \"occupation\"\n",
    "s1, p1, o1 = find_train_triple_with_predicate(start_predicate)\n",
    "print(f'Triple Pattern:  {s1} {p1} ?o1')\n",
    "print('Original triple:', format_triple(s1, p1, o1))\n",
    "\n",
    "best_model = select_best_model(dim32_predicate_metrics, p1)\n",
    "print('Best model:', best_model)"
   ],
   "metadata": {
    "collapsed": false,
    "ExecuteTime": {
     "end_time": "2024-01-26T01:39:53.687458215Z",
     "start_time": "2024-01-26T01:39:52.216609359Z"
    }
   },
   "id": "521bd8d9d095bc4d",
   "execution_count": 65
  },
  {
   "cell_type": "code",
   "outputs": [
    {
     "data": {
      "text/plain": "   tail_id     score tail_label   model\n0  4545786  4.730696    Q937857  simple\n1  3414869  4.597007    Q628099  simple\n2  4067161  4.109388    Q747074  simple\n3   333123  3.668683   Q1388231  simple\n4  3741101  3.536046   Q6946022  simple",
      "text/html": "<div>\n<style scoped>\n    .dataframe tbody tr th:only-of-type {\n        vertical-align: middle;\n    }\n\n    .dataframe tbody tr th {\n        vertical-align: top;\n    }\n\n    .dataframe thead th {\n        text-align: right;\n    }\n</style>\n<table border=\"1\" class=\"dataframe\">\n  <thead>\n    <tr style=\"text-align: right;\">\n      <th></th>\n      <th>tail_id</th>\n      <th>score</th>\n      <th>tail_label</th>\n      <th>model</th>\n    </tr>\n  </thead>\n  <tbody>\n    <tr>\n      <th>0</th>\n      <td>4545786</td>\n      <td>4.730696</td>\n      <td>Q937857</td>\n      <td>simple</td>\n    </tr>\n    <tr>\n      <th>1</th>\n      <td>3414869</td>\n      <td>4.597007</td>\n      <td>Q628099</td>\n      <td>simple</td>\n    </tr>\n    <tr>\n      <th>2</th>\n      <td>4067161</td>\n      <td>4.109388</td>\n      <td>Q747074</td>\n      <td>simple</td>\n    </tr>\n    <tr>\n      <th>3</th>\n      <td>333123</td>\n      <td>3.668683</td>\n      <td>Q1388231</td>\n      <td>simple</td>\n    </tr>\n    <tr>\n      <th>4</th>\n      <td>3741101</td>\n      <td>3.536046</td>\n      <td>Q6946022</td>\n      <td>simple</td>\n    </tr>\n  </tbody>\n</table>\n</div>"
     },
     "execution_count": 66,
     "metadata": {},
     "output_type": "execute_result"
    }
   ],
   "source": [
    "first_predictions = predict_tail(best_model, subject=s1, predicate=p1)\n",
    "first_predictions.head()"
   ],
   "metadata": {
    "collapsed": false,
    "ExecuteTime": {
     "end_time": "2024-01-26T01:40:01.785822307Z",
     "start_time": "2024-01-26T01:39:57.366438463Z"
    }
   },
   "id": "f7c110297eb8ee4d",
   "execution_count": 66
  },
  {
   "cell_type": "code",
   "outputs": [
    {
     "name": "stdout",
     "output_type": "stream",
     "text": [
      "?o1 -> Q937857  ['association football player']\n",
      "Predicted triple: Q24059314 P106 Q937857   ['Connor McLennan', 'occupation', 'association football player']\n"
     ]
    }
   ],
   "source": [
    "pred_o1 = first_predictions.iloc[0]['tail_label']\n",
    "print(f'?o1 -> {pred_o1}  {get_wikidata_property_labels([pred_o1])}')\n",
    "print('Predicted triple:', format_triple(s1, p1, pred_o1))"
   ],
   "metadata": {
    "collapsed": false,
    "ExecuteTime": {
     "end_time": "2024-01-26T01:40:04.521545601Z",
     "start_time": "2024-01-26T01:40:04.152355567Z"
    }
   },
   "id": "2799cbbf977ead80",
   "execution_count": 67
  },
  {
   "cell_type": "markdown",
   "source": [
    "## Second Triple Prediction"
   ],
   "metadata": {
    "collapsed": false
   },
   "id": "31a39c81ae817dbd"
  },
  {
   "cell_type": "code",
   "outputs": [
    {
     "name": "stdout",
     "output_type": "stream",
     "text": [
      "Triple Pattern:  Q937857 P31 ?o2\n",
      "Original triple: Q937857 P31 Q28640   ['association football player', 'instance of', 'profession']\n",
      "Best model: simple\n"
     ]
    }
   ],
   "source": [
    "s2, p2, o2 = find_train_triple_with_subject(pred_o1)\n",
    "print(f'Triple Pattern:  {s2} {p2} ?o2')\n",
    "print('Original triple:', format_triple(s2, p2, o2))\n",
    "\n",
    "best_model = select_best_model(dim32_predicate_metrics, p2)\n",
    "print('Best model:', best_model)"
   ],
   "metadata": {
    "collapsed": false,
    "ExecuteTime": {
     "end_time": "2024-01-26T01:40:22.205995398Z",
     "start_time": "2024-01-26T01:40:21.145164222Z"
    }
   },
   "id": "e00116bdd3b8131b",
   "execution_count": 68
  },
  {
   "cell_type": "code",
   "outputs": [
    {
     "data": {
      "text/plain": "   tail_id      score tail_label   model\n0  4311478  10.906454      Q7889  simple\n1  4047662   9.293348      Q7432  simple\n2  1318858   6.898678   Q2198484  simple\n3  2359679   6.827145   Q4430012  simple\n4  2026615   6.714136     Q33506  simple",
      "text/html": "<div>\n<style scoped>\n    .dataframe tbody tr th:only-of-type {\n        vertical-align: middle;\n    }\n\n    .dataframe tbody tr th {\n        vertical-align: top;\n    }\n\n    .dataframe thead th {\n        text-align: right;\n    }\n</style>\n<table border=\"1\" class=\"dataframe\">\n  <thead>\n    <tr style=\"text-align: right;\">\n      <th></th>\n      <th>tail_id</th>\n      <th>score</th>\n      <th>tail_label</th>\n      <th>model</th>\n    </tr>\n  </thead>\n  <tbody>\n    <tr>\n      <th>0</th>\n      <td>4311478</td>\n      <td>10.906454</td>\n      <td>Q7889</td>\n      <td>simple</td>\n    </tr>\n    <tr>\n      <th>1</th>\n      <td>4047662</td>\n      <td>9.293348</td>\n      <td>Q7432</td>\n      <td>simple</td>\n    </tr>\n    <tr>\n      <th>2</th>\n      <td>1318858</td>\n      <td>6.898678</td>\n      <td>Q2198484</td>\n      <td>simple</td>\n    </tr>\n    <tr>\n      <th>3</th>\n      <td>2359679</td>\n      <td>6.827145</td>\n      <td>Q4430012</td>\n      <td>simple</td>\n    </tr>\n    <tr>\n      <th>4</th>\n      <td>2026615</td>\n      <td>6.714136</td>\n      <td>Q33506</td>\n      <td>simple</td>\n    </tr>\n  </tbody>\n</table>\n</div>"
     },
     "execution_count": 69,
     "metadata": {},
     "output_type": "execute_result"
    }
   ],
   "source": [
    "second_predictions = predict_tail(best_model, subject=s2, predicate=p2)\n",
    "second_predictions.head()"
   ],
   "metadata": {
    "collapsed": false,
    "ExecuteTime": {
     "end_time": "2024-01-26T01:40:28.567846095Z",
     "start_time": "2024-01-26T01:40:25.111760568Z"
    }
   },
   "id": "3c44d3516d54b8b1",
   "execution_count": 69
  },
  {
   "cell_type": "code",
   "outputs": [
    {
     "name": "stdout",
     "output_type": "stream",
     "text": [
      "?o2 -> Q7889  ['video game']\n",
      "Predicted triple: Q937857 P31 Q7889   ['association football player', 'instance of', 'video game']\n"
     ]
    }
   ],
   "source": [
    "pred_o2 = second_predictions.iloc[0]['tail_label']\n",
    "print(f'?o2 -> {pred_o2}  {get_wikidata_property_labels([pred_o2])}')\n",
    "print('Predicted triple:', format_triple(s2, p2, pred_o2))"
   ],
   "metadata": {
    "collapsed": false,
    "ExecuteTime": {
     "end_time": "2024-01-26T01:41:03.301171722Z",
     "start_time": "2024-01-26T01:41:02.856046485Z"
    }
   },
   "id": "59aec50323a021f5",
   "execution_count": 70
  },
  {
   "cell_type": "markdown",
   "source": [
    "## Third Triple Prediction"
   ],
   "metadata": {
    "collapsed": false
   },
   "id": "f3e605f9919c87b8"
  },
  {
   "cell_type": "code",
   "outputs": [
    {
     "name": "stdout",
     "output_type": "stream",
     "text": [
      "Triple Pattern:  Q7889 P279 ?o3\n",
      "Original triple: Q7889 P279 Q166142   ['video game', 'subclass of', 'application']\n",
      "Best model: complex\n"
     ]
    }
   ],
   "source": [
    "s3, p3, o3 = find_train_triple_with_subject(pred_o2)\n",
    "print(f'Triple Pattern:  {s3} {p3} ?o3')\n",
    "print(f'Original triple:', format_triple(s3, p3, o3))\n",
    "\n",
    "best_model = select_best_model(dim32_predicate_metrics, p3)\n",
    "print('Best model:', best_model)"
   ],
   "metadata": {
    "collapsed": false,
    "ExecuteTime": {
     "end_time": "2024-01-26T01:41:13.673014944Z",
     "start_time": "2024-01-26T01:41:13.145962296Z"
    }
   },
   "id": "2d861812c8f7379b",
   "execution_count": 72
  },
  {
   "cell_type": "code",
   "outputs": [
    {
     "data": {
      "text/plain": "   tail_id     score tail_label    model\n0  1212112  7.652782  Q20737639  complex\n1  4548870  6.889242    Q940528  complex\n2  3031003  6.748481   Q5444174  complex\n3  2652825  6.433424   Q4912365  complex\n4  1510797  6.375384  Q24884386  complex",
      "text/html": "<div>\n<style scoped>\n    .dataframe tbody tr th:only-of-type {\n        vertical-align: middle;\n    }\n\n    .dataframe tbody tr th {\n        vertical-align: top;\n    }\n\n    .dataframe thead th {\n        text-align: right;\n    }\n</style>\n<table border=\"1\" class=\"dataframe\">\n  <thead>\n    <tr style=\"text-align: right;\">\n      <th></th>\n      <th>tail_id</th>\n      <th>score</th>\n      <th>tail_label</th>\n      <th>model</th>\n    </tr>\n  </thead>\n  <tbody>\n    <tr>\n      <th>0</th>\n      <td>1212112</td>\n      <td>7.652782</td>\n      <td>Q20737639</td>\n      <td>complex</td>\n    </tr>\n    <tr>\n      <th>1</th>\n      <td>4548870</td>\n      <td>6.889242</td>\n      <td>Q940528</td>\n      <td>complex</td>\n    </tr>\n    <tr>\n      <th>2</th>\n      <td>3031003</td>\n      <td>6.748481</td>\n      <td>Q5444174</td>\n      <td>complex</td>\n    </tr>\n    <tr>\n      <th>3</th>\n      <td>2652825</td>\n      <td>6.433424</td>\n      <td>Q4912365</td>\n      <td>complex</td>\n    </tr>\n    <tr>\n      <th>4</th>\n      <td>1510797</td>\n      <td>6.375384</td>\n      <td>Q24884386</td>\n      <td>complex</td>\n    </tr>\n  </tbody>\n</table>\n</div>"
     },
     "execution_count": 73,
     "metadata": {},
     "output_type": "execute_result"
    }
   ],
   "source": [
    "third_predictions = predict_tail(best_model, subject=s3, predicate=p3)\n",
    "third_predictions.head()"
   ],
   "metadata": {
    "collapsed": false,
    "ExecuteTime": {
     "end_time": "2024-01-26T01:41:27.269623872Z",
     "start_time": "2024-01-26T01:41:21.324048330Z"
    }
   },
   "id": "3515c1628c37f382",
   "execution_count": 73
  },
  {
   "cell_type": "code",
   "outputs": [
    {
     "name": "stdout",
     "output_type": "stream",
     "text": [
      "?o3 -> Q20737639  ['Harold Winberg']\n",
      "Predicted triple: Q7889 P279 Q20737639   ['video game', 'subclass of', 'Harold Winberg']\n"
     ]
    }
   ],
   "source": [
    "pred_o3 = third_predictions.iloc[0]['tail_label']\n",
    "print(f'?o3 -> {pred_o3}  {get_wikidata_property_labels([pred_o3])}')\n",
    "print('Predicted triple:', format_triple(s3, p3, pred_o3))"
   ],
   "metadata": {
    "collapsed": false,
    "ExecuteTime": {
     "end_time": "2024-01-26T01:41:35.138724065Z",
     "start_time": "2024-01-26T01:41:34.751314661Z"
    }
   },
   "id": "1e01619e26a1b5b0",
   "execution_count": 74
  },
  {
   "cell_type": "markdown",
   "source": [
    "## Two-Step Link Prediction using TOP K predictions"
   ],
   "metadata": {
    "collapsed": false
   },
   "id": "5fc8a1fa41a27dba"
  },
  {
   "cell_type": "code",
   "outputs": [],
   "source": [
    "def do_object_link_prediction(subj, pred, level):\n",
    "    formatted_triple = format_triple(subj, pred, \"?o\" + str(level))\n",
    "    print(f'Triple Pattern (Level {level}):  {formatted_triple}')\n",
    "    \n",
    "    best_model = select_best_model(dim32_predicate_metrics, pred)\n",
    "    print(f'Best model for {pred}: {best_model}\\n')\n",
    "    \n",
    "    predictions = predict_tail(best_model, subject=subj, predicate=pred)\n",
    "    \n",
    "    labeled_predictions = predictions.assign(wd_label=get_wikidata_property_labels(predictions['tail_label'].values))\n",
    "    print(f'Top {TOP_K} Predictions for ?o{level}:   {formatted_triple}')\n",
    "    print(labeled_predictions[['tail_label', 'wd_label', 'model', 'score']], '\\n')\n",
    "    \n",
    "    return labeled_predictions, best_model\n",
    "\n",
    "def do_two_step_link_prediction(predicate1, predicate2):\n",
    "    s1, p1, _ = find_train_triple_with_predicate(predicate1)\n",
    "    o1_predictions, best_model_o1 = do_object_link_prediction(s1, p1, 1)\n",
    "    \n",
    "    two_step_predictions = []\n",
    "    for rank, (index, o_pred) in enumerate(o1_predictions.iterrows(), start=1):\n",
    "        print(f'Predicting for Rank {rank}: {o_pred[\"tail_label\"]}\\n')\n",
    "        o2_predictions, best_model_o2 = do_object_link_prediction(o_pred['tail_label'], predicate2, 2)\n",
    "        \n",
    "        two_step_predictions.append(pd.DataFrame({\n",
    "            'o1_label': o_pred['tail_label'],\n",
    "            'o1_wd_label': o_pred['wd_label'],\n",
    "            'o1_model': best_model_o1,\n",
    "            'o2_label': o2_predictions['tail_label'],\n",
    "            'o2_wd_label': o2_predictions['wd_label'],\n",
    "            'o2_model': best_model_o2,\n",
    "            'o1_score': o_pred['score'],\n",
    "            'o2_score': o2_predictions['score'],\n",
    "            'combined_rank': rank * np.arange(1, len(o2_predictions) + 1)\n",
    "        }))\n",
    "        \n",
    "    return pd.concat(two_step_predictions).sort_values(by='combined_rank')"
   ],
   "metadata": {
    "collapsed": false,
    "ExecuteTime": {
     "end_time": "2024-02-01T15:52:54.596819253Z",
     "start_time": "2024-02-01T15:52:54.554091519Z"
    }
   },
   "id": "904a5868656244f7",
   "execution_count": 8
  },
  {
   "cell_type": "markdown",
   "source": [
    "Predictions Dataframe Reference:\n",
    "\n",
    "- `o1_label`: Label of first predicted object\n",
    "- `o1_wd_label`: Wikidata label of first predicted object\n",
    "- `o1_model`: Model used to predict first object\n",
    "- `o1_score`: Prediction score of first object assigned from model\n",
    "- `o2_label`: Label of second predicted object\n",
    "- `o2_wd_label`: Wikidata label of second predicted object\n",
    "- `o2_model`: Model used to predict second object\n",
    "- `o2_score`: Prediction score of second object assigned from model\n",
    "- `combined_rank`: Multiplication of ranks of both predicted objects (ranks go from 1 to n)"
   ],
   "metadata": {
    "collapsed": false
   },
   "id": "28a3efd1ba3eef9c"
  },
  {
   "cell_type": "code",
   "outputs": [
    {
     "name": "stdout",
     "output_type": "stream",
     "text": [
      "Triple Pattern (Level 1):  Q328584 P17 ?o1   ['municipality of Slovenia', 'country']\n",
      "Best model for P17: transe\n",
      "Top 10 Predictions for ?o1:   Q328584 P17 ?o1   ['municipality of Slovenia', 'country']\n",
      "  tail_label                   wd_label   model     score\n",
      "0  Q16746854  Luhansk People's Republic  transe -6.234209\n",
      "1       Q874               Turkmenistan  transe -6.456049\n",
      "2       Q215                   Slovenia  transe -6.474869\n",
      "3       Q953                     Zambia  transe -6.579235\n",
      "4       Q916                     Angola  transe -6.595613\n",
      "5       Q298                      Chile  transe -6.616185\n",
      "6    Q328584   municipality of Slovenia  transe -6.628609\n",
      "7       Q214                   Slovakia  transe -6.657466\n",
      "8       Q218                    Romania  transe -6.667213\n",
      "9       Q222                    Albania  transe -6.688431 \n",
      "\n",
      "Predicting for Rank 1: Q16746854\n",
      "Triple Pattern (Level 2):  Q16746854 P47 ?o2   [\"Luhansk People's Republic\", 'shares border with']\n",
      "Best model for P47: transe\n",
      "Top 10 Predictions for ?o2:   Q16746854 P47 ?o2   [\"Luhansk People's Republic\", 'shares border with']\n",
      "  tail_label                    wd_label   model     score\n",
      "0  Q16746854   Luhansk People's Republic  transe -0.357723\n",
      "1        Q35                     Denmark  transe -2.164166\n",
      "2       Q298                       Chile  transe -2.303989\n",
      "3        Q20                      Norway  transe -2.307580\n",
      "4       Q258                South Africa  transe -2.344686\n",
      "5    Q713750                West Germany  transe -2.410670\n",
      "6     Q12536           Abbasid Caliphate  transe -2.577198\n",
      "7      Q1036                      Uganda  transe -2.612475\n",
      "8       Q148  People's Republic of China  transe -2.629173\n",
      "9       Q916                      Angola  transe -2.630731 \n",
      "\n",
      "Predicting for Rank 2: Q874\n",
      "\n",
      "Triple Pattern (Level 2):  Q874 P47 ?o2   ['Turkmenistan', 'shares border with']\n",
      "Best model for P47: transe\n",
      "Top 10 Predictions for ?o2:   Q874 P47 ?o2   ['Turkmenistan', 'shares border with']\n",
      "  tail_label      wd_label   model     score\n",
      "0       Q874  Turkmenistan  transe -0.357723\n",
      "1       Q678         Tonga  transe -2.244856\n",
      "2       Q222       Albania  transe -2.424351\n",
      "3      Q1011    Cape Verde  transe -2.480073\n",
      "4       Q801        Israel  transe -2.512635\n",
      "5       Q298         Chile  transe -2.529275\n",
      "6       Q403        Serbia  transe -2.542218\n",
      "7      Q1009      Cameroon  transe -2.560900\n",
      "8      Q1033       Nigeria  transe -2.571671\n",
      "9       Q117         Ghana  transe -2.574570 \n",
      "\n",
      "Predicting for Rank 3: Q215\n",
      "Triple Pattern (Level 2):  Q215 P47 ?o2   ['Slovenia', 'shares border with']\n",
      "Best model for P47: transe\n",
      "Top 10 Predictions for ?o2:   Q215 P47 ?o2   ['Slovenia', 'shares border with']\n",
      "  tail_label                wd_label   model     score\n",
      "0       Q215                Slovenia  transe -0.357723\n",
      "1        Q36                  Poland  transe -1.858076\n",
      "2       Q219                Bulgaria  transe -1.928289\n",
      "3       Q225  Bosnia and Herzegovina  transe -2.034295\n",
      "4      Q1028                 Morocco  transe -2.073385\n",
      "5       Q399                 Armenia  transe -2.146318\n",
      "6       Q224                 Croatia  transe -2.217007\n",
      "7       Q114                   Kenya  transe -2.311847\n",
      "8       Q945                    Togo  transe -2.379990\n",
      "9       Q142                  France  transe -2.382375 \n",
      "\n",
      "Predicting for Rank 4: Q953\n",
      "Triple Pattern (Level 2):  Q953 P47 ?o2   ['Zambia', 'shares border with']\n",
      "Best model for P47: transe\n",
      "Top 10 Predictions for ?o2:   Q953 P47 ?o2   ['Zambia', 'shares border with']\n",
      "  tail_label                   wd_label   model     score\n",
      "0       Q953                     Zambia  transe -0.357723\n",
      "1      Q1036                     Uganda  transe -2.344087\n",
      "2      Q1020                     Malawi  transe -2.406518\n",
      "3    Q184445              County Offaly  transe -2.538181\n",
      "4    Q518101  First Republic of Austria  transe -2.618887\n",
      "5       Q977                   Djibouti  transe -2.696958\n",
      "6       Q298                      Chile  transe -2.708131\n",
      "7        Q32                 Luxembourg  transe -2.716774\n",
      "8    Q207111          North Lanarkshire  transe -2.741338\n",
      "9    Q162475                County Cork  transe -2.778094 \n",
      "\n",
      "Predicting for Rank 5: Q916\n",
      "Triple Pattern (Level 2):  Q916 P47 ?o2   ['Angola', 'shares border with']\n",
      "Best model for P47: transe\n",
      "Top 10 Predictions for ?o2:   Q916 P47 ?o2   ['Angola', 'shares border with']\n",
      "  tail_label   wd_label   model     score\n",
      "0       Q916     Angola  transe -0.357723\n",
      "1        Q41     Greece  transe -2.041888\n",
      "2       Q945       Togo  transe -2.300339\n",
      "3       Q298      Chile  transe -2.412452\n",
      "4       Q822    Lebanon  transe -2.451168\n",
      "5      Q1009   Cameroon  transe -2.488186\n",
      "6        Q17      Japan  transe -2.490555\n",
      "7       Q252  Indonesia  transe -2.537962\n",
      "8       Q159     Russia  transe -2.567686\n",
      "9       Q218    Romania  transe -2.578394 \n",
      "\n",
      "Predicting for Rank 6: Q298\n",
      "Triple Pattern (Level 2):  Q298 P47 ?o2   ['Chile', 'shares border with']\n",
      "Best model for P47: transe\n",
      "Top 10 Predictions for ?o2:   Q298 P47 ?o2   ['Chile', 'shares border with']\n",
      "  tail_label                    wd_label   model     score\n",
      "0       Q298                       Chile  transe -0.357723\n",
      "1       Q145              United Kingdom  transe -1.820236\n",
      "2        Q34                      Sweden  transe -1.924588\n",
      "3       Q258                South Africa  transe -1.929865\n",
      "4        Q21                     England  transe -2.059390\n",
      "5       Q148  People's Republic of China  transe -2.079838\n",
      "6       Q833                    Malaysia  transe -2.084410\n",
      "7        Q38                       Italy  transe -2.095751\n",
      "8       Q778                 The Bahamas  transe -2.138448\n",
      "9       Q783                    Honduras  transe -2.142564 \n",
      "\n",
      "Predicting for Rank 7: Q328584\n",
      "\n",
      "Triple Pattern (Level 2):  Q328584 P47 ?o2   ['municipality of Slovenia', 'shares border with']\n",
      "Best model for P47: transe\n",
      "Top 10 Predictions for ?o2:   Q328584 P47 ?o2   ['municipality of Slovenia', 'shares border with']\n",
      "  tail_label                         wd_label   model     score\n",
      "0    Q328584         municipality of Slovenia  transe -0.357723\n",
      "1    Q962772                     Gmina Milicz  transe -2.493436\n",
      "2    Q548611   district of the Czech Republic  transe -2.614206\n",
      "3   Q7252589             province of Cambodia  transe -2.694823\n",
      "4   Q1500352               local municipality  transe -2.812614\n",
      "5  Q15125752           rural district of Iran  transe -2.837863\n",
      "6     Q11353                 district of Iran  transe -2.839270\n",
      "7   Q2179038                  Gmina Trzebnica  transe -2.954355\n",
      "8    Q690084           governorate of Tunisia  transe -2.964584\n",
      "9    Q646793  municipality of North Macedonia  transe -3.006920 \n",
      "\n",
      "Predicting for Rank 8: Q214\n",
      "Triple Pattern (Level 2):  Q214 P47 ?o2   ['Slovakia', 'shares border with']\n",
      "Best model for P47: transe\n",
      "Top 10 Predictions for ?o2:   Q214 P47 ?o2   ['Slovakia', 'shares border with']\n",
      "  tail_label               wd_label   model     score\n",
      "0       Q214               Slovakia  transe -0.357723\n",
      "1       Q717              Venezuela  transe -2.204420\n",
      "2        Q55            Netherlands  transe -2.289023\n",
      "3      Q1011             Cape Verde  transe -2.317506\n",
      "4       Q971  Republic of the Congo  transe -2.393414\n",
      "5       Q221        North Macedonia  transe -2.510013\n",
      "6       Q786     Dominican Republic  transe -2.511641\n",
      "7     Q33946         Czechoslovakia  transe -2.513398\n",
      "8      Q1037                 Rwanda  transe -2.535313\n",
      "9       Q155                 Brazil  transe -2.597891 \n",
      "\n",
      "Predicting for Rank 9: Q218\n",
      "Triple Pattern (Level 2):  Q218 P47 ?o2   ['Romania', 'shares border with']\n",
      "Best model for P47: transe\n",
      "Top 10 Predictions for ?o2:   Q218 P47 ?o2   ['Romania', 'shares border with']\n",
      "  tail_label                    wd_label   model     score\n",
      "0       Q218                     Romania  transe -0.357723\n",
      "1        Q41                      Greece  transe -2.254038\n",
      "2        Q28                     Hungary  transe -2.332931\n",
      "3       Q148  People's Republic of China  transe -2.391665\n",
      "4        Q38                       Italy  transe -2.417579\n",
      "5       Q399                     Armenia  transe -2.454977\n",
      "6       Q822                     Lebanon  transe -2.466037\n",
      "7       Q298                       Chile  transe -2.467750\n",
      "8       Q403                      Serbia  transe -2.502637\n",
      "9       Q414                   Argentina  transe -2.504121 \n",
      "\n",
      "Predicting for Rank 10: Q222\n",
      "Triple Pattern (Level 2):  Q222 P47 ?o2   ['Albania', 'shares border with']\n",
      "Best model for P47: transe\n",
      "Top 10 Predictions for ?o2:   Q222 P47 ?o2   ['Albania', 'shares border with']\n",
      "  tail_label                wd_label   model     score\n",
      "0       Q222                 Albania  transe -0.357723\n",
      "1        Q41                  Greece  transe -1.820789\n",
      "2       Q403                  Serbia  transe -2.142366\n",
      "3       Q225  Bosnia and Herzegovina  transe -2.267443\n",
      "4       Q215                Slovenia  transe -2.345886\n",
      "5       Q414               Argentina  transe -2.377639\n",
      "6      Q1014                 Liberia  transe -2.411234\n",
      "7       Q945                    Togo  transe -2.475116\n",
      "8        Q29                   Spain  transe -2.481931\n",
      "9       Q230                 Georgia  transe -2.489703 \n"
     ]
    },
    {
     "data": {
      "text/plain": "     o1_label                o1_wd_label o1_model   o2_label  \\\n0   Q16746854  Luhansk People's Republic   transe  Q16746854   \n0        Q874               Turkmenistan   transe       Q874   \n1   Q16746854  Luhansk People's Republic   transe        Q35   \n2   Q16746854  Luhansk People's Republic   transe       Q298   \n0        Q215                   Slovenia   transe       Q215   \n..        ...                        ...      ...        ...   \n9        Q214                   Slovakia   transe       Q155   \n8        Q218                    Romania   transe       Q403   \n9        Q218                    Romania   transe       Q414   \n8        Q222                    Albania   transe        Q29   \n9        Q222                    Albania   transe       Q230   \n\n                  o2_wd_label o2_model  o1_score  o2_score  combined_rank  \n0   Luhansk People's Republic   transe -6.234209 -0.357723              1  \n0                Turkmenistan   transe -6.456049 -0.357723              2  \n1                     Denmark   transe -6.234209 -2.164166              2  \n2                       Chile   transe -6.234209 -2.303989              3  \n0                    Slovenia   transe -6.474869 -0.357723              3  \n..                        ...      ...       ...       ...            ...  \n9                      Brazil   transe -6.657466 -2.597891             80  \n8                      Serbia   transe -6.667213 -2.502637             81  \n9                   Argentina   transe -6.667213 -2.504121             90  \n8                       Spain   transe -6.688431 -2.481931             90  \n9                     Georgia   transe -6.688431 -2.489703            100  \n\n[100 rows x 9 columns]",
      "text/html": "<div>\n<style scoped>\n    .dataframe tbody tr th:only-of-type {\n        vertical-align: middle;\n    }\n\n    .dataframe tbody tr th {\n        vertical-align: top;\n    }\n\n    .dataframe thead th {\n        text-align: right;\n    }\n</style>\n<table border=\"1\" class=\"dataframe\">\n  <thead>\n    <tr style=\"text-align: right;\">\n      <th></th>\n      <th>o1_label</th>\n      <th>o1_wd_label</th>\n      <th>o1_model</th>\n      <th>o2_label</th>\n      <th>o2_wd_label</th>\n      <th>o2_model</th>\n      <th>o1_score</th>\n      <th>o2_score</th>\n      <th>combined_rank</th>\n    </tr>\n  </thead>\n  <tbody>\n    <tr>\n      <th>0</th>\n      <td>Q16746854</td>\n      <td>Luhansk People's Republic</td>\n      <td>transe</td>\n      <td>Q16746854</td>\n      <td>Luhansk People's Republic</td>\n      <td>transe</td>\n      <td>-6.234209</td>\n      <td>-0.357723</td>\n      <td>1</td>\n    </tr>\n    <tr>\n      <th>0</th>\n      <td>Q874</td>\n      <td>Turkmenistan</td>\n      <td>transe</td>\n      <td>Q874</td>\n      <td>Turkmenistan</td>\n      <td>transe</td>\n      <td>-6.456049</td>\n      <td>-0.357723</td>\n      <td>2</td>\n    </tr>\n    <tr>\n      <th>1</th>\n      <td>Q16746854</td>\n      <td>Luhansk People's Republic</td>\n      <td>transe</td>\n      <td>Q35</td>\n      <td>Denmark</td>\n      <td>transe</td>\n      <td>-6.234209</td>\n      <td>-2.164166</td>\n      <td>2</td>\n    </tr>\n    <tr>\n      <th>2</th>\n      <td>Q16746854</td>\n      <td>Luhansk People's Republic</td>\n      <td>transe</td>\n      <td>Q298</td>\n      <td>Chile</td>\n      <td>transe</td>\n      <td>-6.234209</td>\n      <td>-2.303989</td>\n      <td>3</td>\n    </tr>\n    <tr>\n      <th>0</th>\n      <td>Q215</td>\n      <td>Slovenia</td>\n      <td>transe</td>\n      <td>Q215</td>\n      <td>Slovenia</td>\n      <td>transe</td>\n      <td>-6.474869</td>\n      <td>-0.357723</td>\n      <td>3</td>\n    </tr>\n    <tr>\n      <th>...</th>\n      <td>...</td>\n      <td>...</td>\n      <td>...</td>\n      <td>...</td>\n      <td>...</td>\n      <td>...</td>\n      <td>...</td>\n      <td>...</td>\n      <td>...</td>\n    </tr>\n    <tr>\n      <th>9</th>\n      <td>Q214</td>\n      <td>Slovakia</td>\n      <td>transe</td>\n      <td>Q155</td>\n      <td>Brazil</td>\n      <td>transe</td>\n      <td>-6.657466</td>\n      <td>-2.597891</td>\n      <td>80</td>\n    </tr>\n    <tr>\n      <th>8</th>\n      <td>Q218</td>\n      <td>Romania</td>\n      <td>transe</td>\n      <td>Q403</td>\n      <td>Serbia</td>\n      <td>transe</td>\n      <td>-6.667213</td>\n      <td>-2.502637</td>\n      <td>81</td>\n    </tr>\n    <tr>\n      <th>9</th>\n      <td>Q218</td>\n      <td>Romania</td>\n      <td>transe</td>\n      <td>Q414</td>\n      <td>Argentina</td>\n      <td>transe</td>\n      <td>-6.667213</td>\n      <td>-2.504121</td>\n      <td>90</td>\n    </tr>\n    <tr>\n      <th>8</th>\n      <td>Q222</td>\n      <td>Albania</td>\n      <td>transe</td>\n      <td>Q29</td>\n      <td>Spain</td>\n      <td>transe</td>\n      <td>-6.688431</td>\n      <td>-2.481931</td>\n      <td>90</td>\n    </tr>\n    <tr>\n      <th>9</th>\n      <td>Q222</td>\n      <td>Albania</td>\n      <td>transe</td>\n      <td>Q230</td>\n      <td>Georgia</td>\n      <td>transe</td>\n      <td>-6.688431</td>\n      <td>-2.489703</td>\n      <td>100</td>\n    </tr>\n  </tbody>\n</table>\n<p>100 rows × 9 columns</p>\n</div>"
     },
     "execution_count": 9,
     "metadata": {},
     "output_type": "execute_result"
    }
   ],
   "source": [
    "# 1st Example predictions\n",
    "#   Q2414363 P413 ?o1\n",
    "#   ?o2      P641 ?o2\n",
    "pred_1 = 'P17'  # \"country\"\n",
    "pred_2 = 'P47'  # \"shares border with\"\n",
    "\n",
    "with pd.option_context('display.expand_frame_repr', False):\n",
    "    example1_predictions = do_two_step_link_prediction(pred_1, pred_2)\n",
    "\n",
    "example1_predictions"
   ],
   "metadata": {
    "collapsed": false,
    "ExecuteTime": {
     "end_time": "2024-02-01T15:54:05.530398092Z",
     "start_time": "2024-02-01T15:53:09.329266986Z"
    }
   },
   "id": "deff2235c74cf43e",
   "execution_count": 9
  },
  {
   "cell_type": "code",
   "outputs": [
    {
     "name": "stdout",
     "output_type": "stream",
     "text": [
      "Triple Pattern (Level 1):  Q2046855 P106 ?o1   ['Thue Christiansen', 'occupation']\n",
      "Best model for P106: simple\n",
      "Top 10 Predictions for ?o1:   Q2046855 P106 ?o1   ['Thue Christiansen', 'occupation']\n",
      "  tail_label                 wd_label   model     score\n",
      "0    Q484170        commune of France  simple  5.705425\n",
      "1    Q839954      archaeological site  simple  4.803412\n",
      "2    Q747074         commune of Italy  simple  4.402956\n",
      "3    Q262166  municipality in Germany  simple  4.393650\n",
      "4  Q17051044                  mahalle  simple  4.235212\n",
      "5       Q571                     book  simple  4.189870\n",
      "6     Q16970          church building  simple  4.032532\n",
      "7    Q605291    municipality of Niger  simple  3.888040\n",
      "8     Q55488          railway station  simple  3.737934\n",
      "9     Q34442                     road  simple  3.723409 \n",
      "\n",
      "Predicting for Rank 1: Q484170\n",
      "\n",
      "Triple Pattern (Level 2):  Q484170 P69 ?o2   ['commune of France', 'educated at']\n",
      "Best model for P69: simple\n",
      "Top 10 Predictions for ?o2:   Q484170 P69 ?o2   ['commune of France', 'educated at']\n",
      "  tail_label                wd_label   model      score\n",
      "0    Q677037               Telangana  simple  14.456618\n",
      "1      Q7432                 species  simple  13.741009\n",
      "2      Q2246  Nizhny Novgorod Oblast  simple  13.522526\n",
      "3    Q463153            Henry Murray  simple  13.056369\n",
      "4   Q1190526    Washington Diplomats  simple  12.615160\n",
      "5     Q22424                  Punjab  simple  12.606997\n",
      "6    Q470906          Russell Peters  simple  12.555670\n",
      "7   Q4091255     Bolshaya Volokovaya  simple  12.531962\n",
      "8    Q227936                   tribe  simple  12.487412\n",
      "9   Q7602082   Starlight Spectacular  simple  12.362517 \n",
      "\n",
      "Predicting for Rank 2: Q839954\n",
      "Triple Pattern (Level 2):  Q839954 P69 ?o2   ['archaeological site', 'educated at']\n",
      "Best model for P69: simple\n",
      "Top 10 Predictions for ?o2:   Q839954 P69 ?o2   ['archaeological site', 'educated at']\n",
      "  tail_label              wd_label   model     score\n",
      "0   Q6665173            Lochspouts  simple  9.379426\n",
      "1      Q6463          FC St. Pauli  simple  8.813448\n",
      "2   Q1273691       Connie Rubirosa  simple  8.429100\n",
      "3       Q361           World War I  simple  8.368043\n",
      "4    Q192071           F.C. Nantes  simple  8.322517\n",
      "5       Q668                 India  simple  8.217113\n",
      "6    Q244874     Sligo Rovers F.C.  simple  8.108065\n",
      "7   Q5593946             Grampound  simple  8.093750\n",
      "8   Q6997713       Nesser Brothers  simple  8.041658\n",
      "9   Q5664420  Harrietta Plantation  simple  7.954627 \n",
      "\n",
      "Predicting for Rank 3: Q747074\n",
      "\n",
      "Triple Pattern (Level 2):  Q747074 P69 ?o2   ['commune of Italy', 'educated at']\n",
      "Best model for P69: simple\n",
      "Top 10 Predictions for ?o2:   Q747074 P69 ?o2   ['commune of Italy', 'educated at']\n",
      "  tail_label              wd_label   model      score\n",
      "0    Q677037             Telangana  simple  13.038240\n",
      "1   Q1190526  Washington Diplomats  simple  12.592603\n",
      "2    Q470906        Russell Peters  simple  11.371471\n",
      "3        Q29                 Spain  simple  11.200486\n",
      "4      Q1185             Karnataka  simple  11.070168\n",
      "5     Q20498                 Sinio  simple  10.907146\n",
      "6  Q18056777                OR52N5  simple  10.905172\n",
      "7  Q16982917     North Creek Trail  simple  10.821856\n",
      "8  Q13359600            raised bog  simple  10.795762\n",
      "9      Q3224       New South Wales  simple  10.745786 \n",
      "\n",
      "Predicting for Rank 4: Q262166\n",
      "\n",
      "Triple Pattern (Level 2):  Q262166 P69 ?o2   ['municipality in Germany', 'educated at']\n",
      "Best model for P69: simple\n",
      "Top 10 Predictions for ?o2:   Q262166 P69 ?o2   ['municipality in Germany', 'educated at']\n",
      "  tail_label                 wd_label   model      score\n",
      "0  Q13359600               raised bog  simple  13.233267\n",
      "1  Q18056777                   OR52N5  simple  12.810260\n",
      "2   Q1190526     Washington Diplomats  simple  12.731775\n",
      "3    Q677037                Telangana  simple  12.718393\n",
      "4     Q79952           Aguascalientes  simple  12.109251\n",
      "5      Q3206        Western Australia  simple  12.039559\n",
      "6   Q6384918             Keith Rabois  simple  11.987232\n",
      "7  Q18641395               Tim Colley  simple  11.986807\n",
      "8      Q1174                  Haryana  simple  11.876410\n",
      "9    Q299496  Austrian Open Kitzbühel  simple  11.773073 \n",
      "\n",
      "Predicting for Rank 5: Q17051044\n",
      "\n",
      "Triple Pattern (Level 2):  Q17051044 P69 ?o2   ['mahalle', 'educated at']\n",
      "Best model for P69: simple\n",
      "Top 10 Predictions for ?o2:   Q17051044 P69 ?o2   ['mahalle', 'educated at']\n",
      "  tail_label                       wd_label   model     score\n",
      "0   Q5863463             Mashak-e Sepahdari  simple  9.372858\n",
      "1    Q924270                       Sébrazac  simple  9.231654\n",
      "2   Q7522936  Singapore Civil Defence Force  simple  9.083067\n",
      "3      Q1568                          Hindi  simple  8.962723\n",
      "4  Q16984998            St. Mark's Bookshop  simple  8.856516\n",
      "5   Q7958543                      Wa Wa Nee  simple  8.703466\n",
      "6   Q6785654                 Masuda Station  simple  8.604167\n",
      "7    Q469460                  Whapmagoostui  simple  8.572376\n",
      "8   Q6248715              John Mifflin Hood  simple  8.562155\n",
      "9   Q1118107                          Orgaz  simple  8.550488 \n",
      "\n",
      "Predicting for Rank 6: Q571\n",
      "\n",
      "Triple Pattern (Level 2):  Q571 P69 ?o2   ['book', 'educated at']\n",
      "Best model for P69: simple\n",
      "Top 10 Predictions for ?o2:   Q571 P69 ?o2   ['book', 'educated at']\n",
      "  tail_label                         wd_label   model      score\n",
      "0      Q7432                          species  simple  16.730549\n",
      "1     Q34740                            genus  simple  13.848068\n",
      "2     Q35409                           family  simple  12.903896\n",
      "3      Q7187                             gene  simple  11.509792\n",
      "4   Q7550048  Sobieski, Podlaskie Voivodeship  simple  11.498315\n",
      "5    Q765778                         organist  simple  11.086121\n",
      "6    Q227936                            tribe  simple  11.070203\n",
      "7    Q179700                           statue  simple  10.847286\n",
      "8  Q17115122                  No Time to Lose  simple  10.387008\n",
      "9   Q5473813            Fosterella caulescens  simple  10.288808 \n",
      "\n",
      "Predicting for Rank 7: Q16970\n",
      "\n",
      "Triple Pattern (Level 2):  Q16970 P69 ?o2   ['church building', 'educated at']\n",
      "Best model for P69: simple\n",
      "Top 10 Predictions for ?o2:   Q16970 P69 ?o2   ['church building', 'educated at']\n",
      "  tail_label                     wd_label   model      score\n",
      "0     Q40348                       lawyer  simple  12.168377\n",
      "1     Q82955                   politician  simple  12.097380\n",
      "2    Q486748                      pianist  simple  12.025863\n",
      "3    Q227936                        tribe  simple  11.998766\n",
      "4    Q937857  association football player  simple  11.829717\n",
      "5    Q193391                     diplomat  simple  11.742632\n",
      "6   Q2526255                film director  simple  11.406305\n",
      "7    Q201788                    historian  simple  10.976969\n",
      "8     Q36180                       writer  simple  10.975749\n",
      "9      Q2246       Nizhny Novgorod Oblast  simple  10.914211 \n",
      "\n",
      "Predicting for Rank 8: Q605291\n",
      "\n",
      "Triple Pattern (Level 2):  Q605291 P69 ?o2   ['municipality of Niger', 'educated at']\n",
      "Best model for P69: simple\n",
      "Top 10 Predictions for ?o2:   Q605291 P69 ?o2   ['municipality of Niger', 'educated at']\n",
      "  tail_label                     wd_label   model     score\n",
      "0  Q11740460                 Ko Young-eun  simple  7.216587\n",
      "1    Q627517              history journal  simple  7.133520\n",
      "2       Q571                         book  simple  7.119414\n",
      "3  Q16837678  1982 Cook Islands Round Cup  simple  7.034397\n",
      "4   Q3184454                       Joseph  simple  7.028993\n",
      "5   Q5095850                  Chicago XXX  simple  6.938564\n",
      "6    Q677037                    Telangana  simple  6.880816\n",
      "7    Q135464                   Xenoperdix  simple  6.779046\n",
      "8      Q1185                    Karnataka  simple  6.712383\n",
      "9   Q7455280                Serrano Creek  simple  6.710210 \n",
      "\n",
      "Predicting for Rank 9: Q55488\n",
      "Triple Pattern (Level 2):  Q55488 P69 ?o2   ['railway station', 'educated at']\n",
      "Best model for P69: simple\n",
      "Top 10 Predictions for ?o2:   Q55488 P69 ?o2   ['railway station', 'educated at']\n",
      "  tail_label                     wd_label   model      score\n",
      "0      Q7432                      species  simple  11.468741\n",
      "1  Q25712127             Jacqueline Fuchs  simple  10.940172\n",
      "2    Q937857  association football player  simple  10.534836\n",
      "3   Q4864385                   Barry King  simple  10.090418\n",
      "4   Q2526255                film director  simple  10.049357\n",
      "5     Q47064           military personnel  simple   9.998569\n",
      "6   Q3282637                film producer  simple   9.906935\n",
      "7  Q30069718             James E. Fleming  simple   9.893103\n",
      "8   Q7987294                      Westcot  simple   9.891758\n",
      "9   Q5132065            Cleveland BioLabs  simple   9.863493 \n",
      "\n",
      "Predicting for Rank 10: Q34442\n",
      "\n",
      "Triple Pattern (Level 2):  Q34442 P69 ?o2   ['road', 'educated at']\n",
      "Best model for P69: simple\n",
      "Top 10 Predictions for ?o2:   Q34442 P69 ?o2   ['road', 'educated at']\n",
      "  tail_label                                  wd_label   model      score\n",
      "0      Q7432                                   species  simple  13.266364\n",
      "1    Q227936                                     tribe  simple  11.769748\n",
      "2     Q18293                      Hednesford Town F.C.  simple  11.134188\n",
      "3    Q937857               association football player  simple  10.913923\n",
      "4   Q4977460                     Bruce Faulkner Caputo  simple  10.748810\n",
      "5    Q628099              association football manager  simple  10.593393\n",
      "6   Q1144303                 Batillus-class oil tanker  simple  10.510607\n",
      "7     Q36602                                     order  simple  10.348391\n",
      "8   Q3785538  High Society – Motion Picture Soundtrack  simple  10.168565\n",
      "9   Q7993569                             Whickham F.C.  simple  10.142229 \n"
     ]
    },
    {
     "data": {
      "text/plain": "   o1_label            o1_wd_label o1_model  o2_label  \\\n0   Q484170      commune of France   simple   Q677037   \n0   Q839954    archaeological site   simple  Q6665173   \n1   Q484170      commune of France   simple     Q7432   \n2   Q484170      commune of France   simple     Q2246   \n0   Q747074       commune of Italy   simple   Q677037   \n..      ...                    ...      ...       ...   \n9   Q605291  municipality of Niger   simple  Q7455280   \n8    Q55488        railway station   simple  Q7987294   \n9    Q55488        railway station   simple  Q5132065   \n8    Q34442                   road   simple  Q3785538   \n9    Q34442                   road   simple  Q7993569   \n\n                                 o2_wd_label o2_model  o1_score   o2_score  \\\n0                                  Telangana   simple  5.705425  14.456618   \n0                                 Lochspouts   simple  4.803412   9.379426   \n1                                    species   simple  5.705425  13.741009   \n2                     Nizhny Novgorod Oblast   simple  5.705425  13.522526   \n0                                  Telangana   simple  4.402956  13.038240   \n..                                       ...      ...       ...        ...   \n9                              Serrano Creek   simple  3.888040   6.710210   \n8                                    Westcot   simple  3.737934   9.891758   \n9                          Cleveland BioLabs   simple  3.737934   9.863493   \n8   High Society – Motion Picture Soundtrack   simple  3.723409  10.168565   \n9                              Whickham F.C.   simple  3.723409  10.142229   \n\n    combined_rank  \n0               1  \n0               2  \n1               2  \n2               3  \n0               3  \n..            ...  \n9              80  \n8              81  \n9              90  \n8              90  \n9             100  \n\n[100 rows x 9 columns]",
      "text/html": "<div>\n<style scoped>\n    .dataframe tbody tr th:only-of-type {\n        vertical-align: middle;\n    }\n\n    .dataframe tbody tr th {\n        vertical-align: top;\n    }\n\n    .dataframe thead th {\n        text-align: right;\n    }\n</style>\n<table border=\"1\" class=\"dataframe\">\n  <thead>\n    <tr style=\"text-align: right;\">\n      <th></th>\n      <th>o1_label</th>\n      <th>o1_wd_label</th>\n      <th>o1_model</th>\n      <th>o2_label</th>\n      <th>o2_wd_label</th>\n      <th>o2_model</th>\n      <th>o1_score</th>\n      <th>o2_score</th>\n      <th>combined_rank</th>\n    </tr>\n  </thead>\n  <tbody>\n    <tr>\n      <th>0</th>\n      <td>Q484170</td>\n      <td>commune of France</td>\n      <td>simple</td>\n      <td>Q677037</td>\n      <td>Telangana</td>\n      <td>simple</td>\n      <td>5.705425</td>\n      <td>14.456618</td>\n      <td>1</td>\n    </tr>\n    <tr>\n      <th>0</th>\n      <td>Q839954</td>\n      <td>archaeological site</td>\n      <td>simple</td>\n      <td>Q6665173</td>\n      <td>Lochspouts</td>\n      <td>simple</td>\n      <td>4.803412</td>\n      <td>9.379426</td>\n      <td>2</td>\n    </tr>\n    <tr>\n      <th>1</th>\n      <td>Q484170</td>\n      <td>commune of France</td>\n      <td>simple</td>\n      <td>Q7432</td>\n      <td>species</td>\n      <td>simple</td>\n      <td>5.705425</td>\n      <td>13.741009</td>\n      <td>2</td>\n    </tr>\n    <tr>\n      <th>2</th>\n      <td>Q484170</td>\n      <td>commune of France</td>\n      <td>simple</td>\n      <td>Q2246</td>\n      <td>Nizhny Novgorod Oblast</td>\n      <td>simple</td>\n      <td>5.705425</td>\n      <td>13.522526</td>\n      <td>3</td>\n    </tr>\n    <tr>\n      <th>0</th>\n      <td>Q747074</td>\n      <td>commune of Italy</td>\n      <td>simple</td>\n      <td>Q677037</td>\n      <td>Telangana</td>\n      <td>simple</td>\n      <td>4.402956</td>\n      <td>13.038240</td>\n      <td>3</td>\n    </tr>\n    <tr>\n      <th>...</th>\n      <td>...</td>\n      <td>...</td>\n      <td>...</td>\n      <td>...</td>\n      <td>...</td>\n      <td>...</td>\n      <td>...</td>\n      <td>...</td>\n      <td>...</td>\n    </tr>\n    <tr>\n      <th>9</th>\n      <td>Q605291</td>\n      <td>municipality of Niger</td>\n      <td>simple</td>\n      <td>Q7455280</td>\n      <td>Serrano Creek</td>\n      <td>simple</td>\n      <td>3.888040</td>\n      <td>6.710210</td>\n      <td>80</td>\n    </tr>\n    <tr>\n      <th>8</th>\n      <td>Q55488</td>\n      <td>railway station</td>\n      <td>simple</td>\n      <td>Q7987294</td>\n      <td>Westcot</td>\n      <td>simple</td>\n      <td>3.737934</td>\n      <td>9.891758</td>\n      <td>81</td>\n    </tr>\n    <tr>\n      <th>9</th>\n      <td>Q55488</td>\n      <td>railway station</td>\n      <td>simple</td>\n      <td>Q5132065</td>\n      <td>Cleveland BioLabs</td>\n      <td>simple</td>\n      <td>3.737934</td>\n      <td>9.863493</td>\n      <td>90</td>\n    </tr>\n    <tr>\n      <th>8</th>\n      <td>Q34442</td>\n      <td>road</td>\n      <td>simple</td>\n      <td>Q3785538</td>\n      <td>High Society – Motion Picture Soundtrack</td>\n      <td>simple</td>\n      <td>3.723409</td>\n      <td>10.168565</td>\n      <td>90</td>\n    </tr>\n    <tr>\n      <th>9</th>\n      <td>Q34442</td>\n      <td>road</td>\n      <td>simple</td>\n      <td>Q7993569</td>\n      <td>Whickham F.C.</td>\n      <td>simple</td>\n      <td>3.723409</td>\n      <td>10.142229</td>\n      <td>100</td>\n    </tr>\n  </tbody>\n</table>\n<p>100 rows × 9 columns</p>\n</div>"
     },
     "execution_count": 10,
     "metadata": {},
     "output_type": "execute_result"
    }
   ],
   "source": [
    "# 2nd Example predictions\n",
    "#   Q471987 P47  ?o1\n",
    "#   ?o2     P421 ?o2\n",
    "pred_1 = 'P106'   # \"occupation\"\n",
    "pred_2 = 'P69'  # \"educated at\"\n",
    "\n",
    "with pd.option_context('display.expand_frame_repr', False):\n",
    "    example2_predictions = do_two_step_link_prediction(pred_1, pred_2)\n",
    "\n",
    "example2_predictions"
   ],
   "metadata": {
    "collapsed": false,
    "ExecuteTime": {
     "end_time": "2024-02-01T15:59:06.438425284Z",
     "start_time": "2024-02-01T15:58:20.241612205Z"
    }
   },
   "id": "f1fc5a6e3dea87fe",
   "execution_count": 10
  },
  {
   "cell_type": "code",
   "outputs": [
    {
     "name": "stdout",
     "output_type": "stream",
     "text": [
      "Triple Pattern (Level 1):  Q754929 P1029 ?o1   ['STS-51-D', 'crew member(s)']\n",
      "Best model for P1029: distmult\n",
      "Top 10 Predictions for ?o1:   Q754929 P1029 ?o1   ['STS-51-D', 'crew member(s)']\n",
      "  tail_label                       wd_label     model     score\n",
      "0  Q11978254                 Jarle Høysæter  distmult  1.334528\n",
      "1    Q386573     Banff World Media Festival  distmult  1.332492\n",
      "2   Q3565911    Walter Van Rensselaer Berry  distmult  1.329518\n",
      "3   Q1313255                    USS Flusser  distmult  1.319270\n",
      "4   Q6374928                        Kasztal  distmult  1.317903\n",
      "5   Q1834148                  Siege of Rome  distmult  1.310136\n",
      "6   Q2025657                        Woodfin  distmult  1.305947\n",
      "7   Q4578900  1979 Toronto Blue Jays season  distmult  1.298060\n",
      "8  Q13406549                Fernando Suárez  distmult  1.294564\n",
      "9   Q4095341         Yevdokiya Bershanskaya  distmult  1.290875 \n",
      "\n",
      "Predicting for Rank 1: Q11978254\n",
      "\n",
      "Triple Pattern (Level 2):  Q11978254 P3373 ?o2   ['Jarle Høysæter', 'sibling']\n",
      "Best model for P3373: distmult\n",
      "Top 10 Predictions for ?o2:   Q11978254 P3373 ?o2   ['Jarle Høysæter', 'sibling']\n",
      "  tail_label                       wd_label     model     score\n",
      "0   Q5420729                        Exotico  distmult  1.002859\n",
      "1    Q287652              Přemyslid dynasty  distmult  0.986096\n",
      "2   Q3003795            CrossGen Chronicles  distmult  0.961286\n",
      "3   Q5470777                Fort Battleford  distmult  0.932930\n",
      "4   Q2162182  list of state leaders in 2013  distmult  0.927439\n",
      "5  Q26266134          Nanjangud Tirumalamba  distmult  0.925384\n",
      "6   Q1911187                   Edwin Kempes  distmult  0.924082\n",
      "7   Q6171130                 Jean Martineau  distmult  0.918964\n",
      "8   Q5468983          Forest House, Chester  distmult  0.917786\n",
      "9   Q1349552               Benson Henderson  distmult  0.915874 \n",
      "\n",
      "Predicting for Rank 2: Q386573\n",
      "Triple Pattern (Level 2):  Q386573 P3373 ?o2   ['Banff World Media Festival', 'sibling']\n",
      "Best model for P3373: distmult\n",
      "Top 10 Predictions for ?o2:   Q386573 P3373 ?o2   ['Banff World Media Festival', 'sibling']\n",
      "  tail_label                                        wd_label     model     score\n",
      "0    Q514359                                   Oberostendorf  distmult  1.141714\n",
      "1   Q1262513                                Mohamed Izzadeen  distmult  1.086505\n",
      "2  Q20710563                                     Turtle Lake  distmult  1.082964\n",
      "3   Q1142906                                        Cubanate  distmult  1.072375\n",
      "4  Q16837255                                         Balalam  distmult  1.066694\n",
      "5   Q7727116                            The Complete Cellout  distmult  1.062412\n",
      "6   Q4726349                                   Alick Ogilvie  distmult  1.050396\n",
      "7     Q47094                              Bassano del Grappa  distmult  1.027214\n",
      "8   Q1225398                                     Yoeri Havik  distmult  1.020825\n",
      "9   Q4596419  1st King's Immemorial Infantry Regiment of AHQ  distmult  1.015730 \n",
      "\n",
      "Predicting for Rank 3: Q3565911\n",
      "\n",
      "Triple Pattern (Level 2):  Q3565911 P3373 ?o2   ['Walter Van Rensselaer Berry', 'sibling']\n",
      "Best model for P3373: distmult\n",
      "Top 10 Predictions for ?o2:   Q3565911 P3373 ?o2   ['Walter Van Rensselaer Berry', 'sibling']\n",
      "  tail_label                    wd_label     model     score\n",
      "0   Q5066169                   Chad Bond  distmult  1.086208\n",
      "1   Q7259786                      Pumiao  distmult  1.074189\n",
      "2   Q5977038               Tim Markström  distmult  1.072541\n",
      "3    Q813868             Bedford College  distmult  1.069458\n",
      "4   Q7094484  Onondaga Community College  distmult  1.065845\n",
      "5   Q5599026           Great Crosthwaite  distmult  1.064405\n",
      "6    Q278127        Intruder in the Dust  distmult  1.058401\n",
      "7   Q3929556            Raimon d'Avinhon  distmult  1.058280\n",
      "8   Q7763226                  The Seeker  distmult  1.053591\n",
      "9   Q4786296           Archibald Douglas  distmult  1.050325 \n",
      "\n",
      "Predicting for Rank 4: Q1313255\n",
      "\n",
      "Triple Pattern (Level 2):  Q1313255 P3373 ?o2   ['USS Flusser', 'sibling']\n",
      "Best model for P3373: distmult\n",
      "Top 10 Predictions for ?o2:   Q1313255 P3373 ?o2   ['USS Flusser', 'sibling']\n",
      "  tail_label               wd_label     model     score\n",
      "0   Q4795731           Trsat Castle  distmult  1.030650\n",
      "1    Q867048                 Angles  distmult  1.013697\n",
      "2   Q7497378               Shine On  distmult  1.001395\n",
      "3   Q4978490            Bruce Wolfe  distmult  0.998864\n",
      "4  Q22965287         Ursula Biemann  distmult  0.994693\n",
      "5   Q3418467           Ramez Dayoub  distmult  0.986745\n",
      "6  Q18466046  Cidade Líder District  distmult  0.976316\n",
      "7   Q7922998  Verus Pharmaceuticals  distmult  0.971088\n",
      "8   Q8076738           Álvaro Ortiz  distmult  0.960521\n",
      "9   Q7495868   Shh. Just Go with It  distmult  0.956422 \n",
      "\n",
      "Predicting for Rank 5: Q6374928\n",
      "Triple Pattern (Level 2):  Q6374928 P3373 ?o2   ['Kasztal', 'sibling']\n",
      "Best model for P3373: distmult\n",
      "Top 10 Predictions for ?o2:   Q6374928 P3373 ?o2   ['Kasztal', 'sibling']\n",
      "  tail_label                                   wd_label     model     score\n",
      "0   Q2373264                          Haliplus furcatus  distmult  1.128419\n",
      "1    Q730398                       Jean-Baptiste Bréval  distmult  1.119556\n",
      "2    Q133319                                  Ochnaceae  distmult  1.103162\n",
      "3    Q591927                                  Blidworth  distmult  1.092974\n",
      "4   Q5751268  Hickory Ridge Cemetery Archeological Site  distmult  1.065055\n",
      "5   Q2923644       Bramka, Warmian-Masurian Voivodeship  distmult  1.063587\n",
      "6   Q6701903                                 Luke Daley  distmult  1.062191\n",
      "7  Q24969363             Whitney Park Historic District  distmult  1.060032\n",
      "8    Q162615                                  Cartagena  distmult  1.049387\n",
      "9  Q11961299                                     Bjørke  distmult  1.043273 \n",
      "\n",
      "Predicting for Rank 6: Q1834148\n",
      "\n",
      "Triple Pattern (Level 2):  Q1834148 P3373 ?o2   ['Siege of Rome', 'sibling']\n",
      "Best model for P3373: distmult\n",
      "Top 10 Predictions for ?o2:   Q1834148 P3373 ?o2   ['Siege of Rome', 'sibling']\n",
      "  tail_label                            wd_label     model     score\n",
      "0   Q4851583                             Ballena  distmult  1.048531\n",
      "1   Q6836716                Michele Christiansen  distmult  1.030188\n",
      "2  Q24061209                     Victoria Reznik  distmult  1.013288\n",
      "3   Q5693076                      Hearts on Fire  distmult  1.008781\n",
      "4   Q4264753                    Aleksandr Lobkov  distmult  1.005601\n",
      "5    Q329563                     Cornelius Lupus  distmult  1.003913\n",
      "6   Q7991441                     What Women Want  distmult  1.002344\n",
      "7   Q3120134                    Guillaume Pouget  distmult  0.999247\n",
      "8   Q6556482  Lipiny, Ostrów Wielkopolski County  distmult  0.996727\n",
      "9   Q8037051      Worshipful Company of Insurers  distmult  0.995985 \n",
      "\n",
      "Predicting for Rank 7: Q2025657\n",
      "\n",
      "Triple Pattern (Level 2):  Q2025657 P3373 ?o2   ['Woodfin', 'sibling']\n",
      "Best model for P3373: distmult\n",
      "Top 10 Predictions for ?o2:   Q2025657 P3373 ?o2   ['Woodfin', 'sibling']\n",
      "  tail_label                                          wd_label     model     score\n",
      "0   Q5113105                               Christopher Raeburn  distmult  1.069788\n",
      "1  Q28406005  1962 Minnesota lieutenant gubernatorial election  distmult  1.031687\n",
      "2   Q4664878                        Abdelouahed Idrissi Chorfi  distmult  1.028778\n",
      "3  Q28002890                                    Doctor Strange  distmult  1.026520\n",
      "4   Q3079097                            Helena National Forest  distmult  1.024392\n",
      "5   Q7620993                                    Straight Ahead  distmult  1.024082\n",
      "6     Q99897                                   Sigmund Riefler  distmult  1.019868\n",
      "7  Q14821599                                  Eunidia albicans  distmult  1.018428\n",
      "8   Q4738813                                              Alza  distmult  1.003664\n",
      "9   Q1955374                  Aldieres Joaquim dos Santos Neto  distmult  1.003505 \n",
      "\n",
      "Predicting for Rank 8: Q4578900\n",
      "Triple Pattern (Level 2):  Q4578900 P3373 ?o2   ['1979 Toronto Blue Jays season', 'sibling']\n",
      "Best model for P3373: distmult\n",
      "Top 10 Predictions for ?o2:   Q4578900 P3373 ?o2   ['1979 Toronto Blue Jays season', 'sibling']\n",
      "  tail_label                       wd_label     model     score\n",
      "0   Q6961206                     Namadagala  distmult  0.863227\n",
      "1   Q1627138                  Honken Trophy  distmult  0.857880\n",
      "2  Q24060652         Hamilton Leroy Shields  distmult  0.857126\n",
      "3   Q5295699                     Dong-hyeon  distmult  0.856229\n",
      "4   Q4758567                   Andrew Shipp  distmult  0.854060\n",
      "5  Q27925312             Döwran Allanazarow  distmult  0.840320\n",
      "6    Q461648                      Paul Rees  distmult  0.837127\n",
      "7    Q272350                  Hurricane Fox  distmult  0.833813\n",
      "8   Q3587139  1938 Siamese general election  distmult  0.824864\n",
      "9    Q867528                       Merigold  distmult  0.824491 \n",
      "\n",
      "Predicting for Rank 9: Q13406549\n",
      "\n",
      "Triple Pattern (Level 2):  Q13406549 P3373 ?o2   ['Fernando Suárez', 'sibling']\n",
      "Best model for P3373: distmult\n",
      "Top 10 Predictions for ?o2:   Q13406549 P3373 ?o2   ['Fernando Suárez', 'sibling']\n",
      "  tail_label                                   wd_label     model     score\n",
      "0  Q12290261                                 Petko Ilić  distmult  0.930263\n",
      "1  Q16951121                    Bellevue Literary Press  distmult  0.926092\n",
      "2   Q3902731                                    Piedade  distmult  0.919847\n",
      "3   Q5260528  Department of Virginia and North Carolina  distmult  0.917374\n",
      "4   Q7616441                          Stig L. Andersson  distmult  0.915969\n",
      "5   Q4569943               1960 Edmonton Eskimos season  distmult  0.903689\n",
      "6   Q7424468                     Saron, thiruvannamalai  distmult  0.900062\n",
      "7   Q2159580                          Myctophum lunatum  distmult  0.878232\n",
      "8  Q28382476                           Harry Withington  distmult  0.877570\n",
      "9   Q1383274                                      Uzech  distmult  0.877043 \n",
      "\n",
      "Predicting for Rank 10: Q4095341\n",
      "\n",
      "Triple Pattern (Level 2):  Q4095341 P3373 ?o2   ['Yevdokiya Bershanskaya', 'sibling']\n",
      "Best model for P3373: distmult\n",
      "Top 10 Predictions for ?o2:   Q4095341 P3373 ?o2   ['Yevdokiya Bershanskaya', 'sibling']\n",
      "  tail_label                                   wd_label     model     score\n",
      "0  Q18398296                       Christian McLaughlin  distmult  1.005354\n",
      "1   Q7895439  University of Freiburg Faculty of Biology  distmult  0.987256\n",
      "2   Q5044622                              Carol Zaleski  distmult  0.979602\n",
      "3   Q5793208                                 Vayeh Beyk  distmult  0.973327\n",
      "4   Q8012676                           William Humphrys  distmult  0.964006\n",
      "5   Q8009950                          William Godolphin  distmult  0.957397\n",
      "6    Q981007                            Frank G. Wisner  distmult  0.956630\n",
      "7   Q5790689                              Melaz Gavaber  distmult  0.952372\n",
      "8  Q16969602                          1960 TANFL season  distmult  0.949188\n",
      "9  Q16950475     1997 Davis Cup Americas Zone Group III  distmult  0.948257 \n"
     ]
    },
    {
     "data": {
      "text/plain": "     o1_label                    o1_wd_label  o1_model   o2_label  \\\n0   Q11978254                 Jarle Høysæter  distmult   Q5420729   \n0     Q386573     Banff World Media Festival  distmult    Q514359   \n1   Q11978254                 Jarle Høysæter  distmult    Q287652   \n2   Q11978254                 Jarle Høysæter  distmult   Q3003795   \n0    Q3565911    Walter Van Rensselaer Berry  distmult   Q5066169   \n..        ...                            ...       ...        ...   \n9    Q4578900  1979 Toronto Blue Jays season  distmult    Q867528   \n8   Q13406549                Fernando Suárez  distmult  Q28382476   \n9   Q13406549                Fernando Suárez  distmult   Q1383274   \n8    Q4095341         Yevdokiya Bershanskaya  distmult  Q16969602   \n9    Q4095341         Yevdokiya Bershanskaya  distmult  Q16950475   \n\n                               o2_wd_label  o2_model  o1_score  o2_score  \\\n0                                  Exotico  distmult  1.334528  1.002859   \n0                            Oberostendorf  distmult  1.332492  1.141714   \n1                        Přemyslid dynasty  distmult  1.334528  0.986096   \n2                      CrossGen Chronicles  distmult  1.334528  0.961286   \n0                                Chad Bond  distmult  1.329518  1.086208   \n..                                     ...       ...       ...       ...   \n9                                 Merigold  distmult  1.298060  0.824491   \n8                         Harry Withington  distmult  1.294564  0.877570   \n9                                    Uzech  distmult  1.294564  0.877043   \n8                        1960 TANFL season  distmult  1.290875  0.949188   \n9   1997 Davis Cup Americas Zone Group III  distmult  1.290875  0.948257   \n\n    combined_rank  \n0               1  \n0               2  \n1               2  \n2               3  \n0               3  \n..            ...  \n9              80  \n8              81  \n9              90  \n8              90  \n9             100  \n\n[100 rows x 9 columns]",
      "text/html": "<div>\n<style scoped>\n    .dataframe tbody tr th:only-of-type {\n        vertical-align: middle;\n    }\n\n    .dataframe tbody tr th {\n        vertical-align: top;\n    }\n\n    .dataframe thead th {\n        text-align: right;\n    }\n</style>\n<table border=\"1\" class=\"dataframe\">\n  <thead>\n    <tr style=\"text-align: right;\">\n      <th></th>\n      <th>o1_label</th>\n      <th>o1_wd_label</th>\n      <th>o1_model</th>\n      <th>o2_label</th>\n      <th>o2_wd_label</th>\n      <th>o2_model</th>\n      <th>o1_score</th>\n      <th>o2_score</th>\n      <th>combined_rank</th>\n    </tr>\n  </thead>\n  <tbody>\n    <tr>\n      <th>0</th>\n      <td>Q11978254</td>\n      <td>Jarle Høysæter</td>\n      <td>distmult</td>\n      <td>Q5420729</td>\n      <td>Exotico</td>\n      <td>distmult</td>\n      <td>1.334528</td>\n      <td>1.002859</td>\n      <td>1</td>\n    </tr>\n    <tr>\n      <th>0</th>\n      <td>Q386573</td>\n      <td>Banff World Media Festival</td>\n      <td>distmult</td>\n      <td>Q514359</td>\n      <td>Oberostendorf</td>\n      <td>distmult</td>\n      <td>1.332492</td>\n      <td>1.141714</td>\n      <td>2</td>\n    </tr>\n    <tr>\n      <th>1</th>\n      <td>Q11978254</td>\n      <td>Jarle Høysæter</td>\n      <td>distmult</td>\n      <td>Q287652</td>\n      <td>Přemyslid dynasty</td>\n      <td>distmult</td>\n      <td>1.334528</td>\n      <td>0.986096</td>\n      <td>2</td>\n    </tr>\n    <tr>\n      <th>2</th>\n      <td>Q11978254</td>\n      <td>Jarle Høysæter</td>\n      <td>distmult</td>\n      <td>Q3003795</td>\n      <td>CrossGen Chronicles</td>\n      <td>distmult</td>\n      <td>1.334528</td>\n      <td>0.961286</td>\n      <td>3</td>\n    </tr>\n    <tr>\n      <th>0</th>\n      <td>Q3565911</td>\n      <td>Walter Van Rensselaer Berry</td>\n      <td>distmult</td>\n      <td>Q5066169</td>\n      <td>Chad Bond</td>\n      <td>distmult</td>\n      <td>1.329518</td>\n      <td>1.086208</td>\n      <td>3</td>\n    </tr>\n    <tr>\n      <th>...</th>\n      <td>...</td>\n      <td>...</td>\n      <td>...</td>\n      <td>...</td>\n      <td>...</td>\n      <td>...</td>\n      <td>...</td>\n      <td>...</td>\n      <td>...</td>\n    </tr>\n    <tr>\n      <th>9</th>\n      <td>Q4578900</td>\n      <td>1979 Toronto Blue Jays season</td>\n      <td>distmult</td>\n      <td>Q867528</td>\n      <td>Merigold</td>\n      <td>distmult</td>\n      <td>1.298060</td>\n      <td>0.824491</td>\n      <td>80</td>\n    </tr>\n    <tr>\n      <th>8</th>\n      <td>Q13406549</td>\n      <td>Fernando Suárez</td>\n      <td>distmult</td>\n      <td>Q28382476</td>\n      <td>Harry Withington</td>\n      <td>distmult</td>\n      <td>1.294564</td>\n      <td>0.877570</td>\n      <td>81</td>\n    </tr>\n    <tr>\n      <th>9</th>\n      <td>Q13406549</td>\n      <td>Fernando Suárez</td>\n      <td>distmult</td>\n      <td>Q1383274</td>\n      <td>Uzech</td>\n      <td>distmult</td>\n      <td>1.294564</td>\n      <td>0.877043</td>\n      <td>90</td>\n    </tr>\n    <tr>\n      <th>8</th>\n      <td>Q4095341</td>\n      <td>Yevdokiya Bershanskaya</td>\n      <td>distmult</td>\n      <td>Q16969602</td>\n      <td>1960 TANFL season</td>\n      <td>distmult</td>\n      <td>1.290875</td>\n      <td>0.949188</td>\n      <td>90</td>\n    </tr>\n    <tr>\n      <th>9</th>\n      <td>Q4095341</td>\n      <td>Yevdokiya Bershanskaya</td>\n      <td>distmult</td>\n      <td>Q16950475</td>\n      <td>1997 Davis Cup Americas Zone Group III</td>\n      <td>distmult</td>\n      <td>1.290875</td>\n      <td>0.948257</td>\n      <td>100</td>\n    </tr>\n  </tbody>\n</table>\n<p>100 rows × 9 columns</p>\n</div>"
     },
     "execution_count": 11,
     "metadata": {},
     "output_type": "execute_result"
    }
   ],
   "source": [
    "# 3rd Example predictions\n",
    "#   Q27064158 P1344 ?o1\n",
    "#   ?o2       P641  ?o2\n",
    "pred_1 = 'P1029'   # \"participant in\"\n",
    "pred_2 = 'P3373'    # \"sport\"\n",
    "\n",
    "with pd.option_context('display.expand_frame_repr', False):\n",
    "    example3_predictions = do_two_step_link_prediction(pred_1, pred_2)\n",
    "\n",
    "example3_predictions"
   ],
   "metadata": {
    "collapsed": false,
    "ExecuteTime": {
     "end_time": "2024-02-01T15:59:51.221063334Z",
     "start_time": "2024-02-01T15:59:06.439959853Z"
    }
   },
   "id": "6313c0ead0c28f9a",
   "execution_count": 11
  },
  {
   "cell_type": "code",
   "outputs": [],
   "source": [],
   "metadata": {
    "collapsed": false
   },
   "id": "39edf78278c570cc"
  }
 ],
 "metadata": {
  "kernelspec": {
   "display_name": "Python 3",
   "language": "python",
   "name": "python3"
  },
  "language_info": {
   "codemirror_mode": {
    "name": "ipython",
    "version": 2
   },
   "file_extension": ".py",
   "mimetype": "text/x-python",
   "name": "python",
   "nbconvert_exporter": "python",
   "pygments_lexer": "ipython2",
   "version": "2.7.6"
  }
 },
 "nbformat": 4,
 "nbformat_minor": 5
}
