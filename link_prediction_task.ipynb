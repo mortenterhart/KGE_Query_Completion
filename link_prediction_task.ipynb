{
 "cells": [
  {
   "cell_type": "code",
   "outputs": [],
   "source": [
    "from typing import Literal\n",
    "\n",
    "import numpy as np\n",
    "import pandas as pd\n",
    "import requests\n",
    "import torch\n",
    "import seaborn as sns\n",
    "import matplotlib.pyplot as plt\n",
    "from pykeen.predict import predict_target\n",
    "from pykeen.triples import TriplesFactory"
   ],
   "metadata": {
    "collapsed": false,
    "ExecuteTime": {
     "end_time": "2024-01-25T03:59:22.365734579Z",
     "start_time": "2024-01-25T03:59:22.361458337Z"
    }
   },
   "id": "536afcf141031ad4",
   "execution_count": 85
  },
  {
   "cell_type": "code",
   "outputs": [],
   "source": [
    "DECISIVE_METRIC = 'arithmetic_mean_rank'\n",
    "DECISIVE_METRIC_OPTIMUM = 'min'\n",
    "\n",
    "# Set Seaborn theme\n",
    "SEABORN_THEME = 'darkgrid'\n",
    "sns.set_theme(style=SEABORN_THEME)"
   ],
   "metadata": {
    "collapsed": false,
    "ExecuteTime": {
     "end_time": "2024-01-25T03:55:17.939250179Z",
     "start_time": "2024-01-25T03:55:17.935922458Z"
    }
   },
   "id": "e9c332e14909103b",
   "execution_count": 81
  },
  {
   "cell_type": "code",
   "outputs": [],
   "source": [
    "SubsetType = Literal['train', 'valid', 'test']\n",
    "\n",
    "def load_wikidata5m_dataset(subset_type: SubsetType):\n",
    "    return pd.read_csv(f'dataset/wikidata5m/wikidata5m_transductive_{subset_type}.txt', sep='\\t', names=['S', 'P', 'O'])\n",
    "\n",
    "wikidata5m_train = load_wikidata5m_dataset('train')\n",
    "wikidata5m_valid = load_wikidata5m_dataset('valid')\n",
    "wikidata5m_test = load_wikidata5m_dataset('test')"
   ],
   "metadata": {
    "collapsed": false,
    "ExecuteTime": {
     "end_time": "2024-01-25T02:45:48.443138683Z",
     "start_time": "2024-01-25T02:45:38.167769348Z"
    }
   },
   "id": "d764557a4b191b59",
   "execution_count": 3
  },
  {
   "cell_type": "code",
   "execution_count": 4,
   "id": "initial_id",
   "metadata": {
    "collapsed": true,
    "ExecuteTime": {
     "end_time": "2024-01-25T02:46:28.164758613Z",
     "start_time": "2024-01-25T02:45:48.445228120Z"
    }
   },
   "outputs": [],
   "source": [
    "def get_trained_models():\n",
    "    return {\n",
    "        'complex': torch.load('embeddings/dim_32/complex/trained_model.pkl'),\n",
    "        'distmult': torch.load('embeddings/dim_32/distmult/trained_model.pkl'),\n",
    "        'simple': torch.load('embeddings/dim_32/simple/trained_model.pkl'),\n",
    "        'transe': torch.load('embeddings/dim_32/transe/trained_model.pkl')\n",
    "    }\n",
    "\n",
    "\n",
    "def get_trained_entity_mappings():\n",
    "    return {\n",
    "        'complex': TriplesFactory.from_path_binary('embeddings/dim_32/complex/training_triples'),\n",
    "        'distmult': TriplesFactory.from_path_binary('embeddings/dim_32/distmult/training_triples'),\n",
    "        'simple': TriplesFactory.from_path_binary('embeddings/dim_32/simple/training_triples'),\n",
    "        'transe': TriplesFactory.from_path_binary('embeddings/dim_32/transe/training_triples')\n",
    "    }\n",
    "\n",
    "trained_models = get_trained_models()\n",
    "entity_mappings = get_trained_entity_mappings()"
   ]
  },
  {
   "cell_type": "code",
   "outputs": [],
   "source": [
    "dim32_predicate_metrics = pd.read_csv('metrics/predicate_metrics.csv')\n",
    "\n",
    "# Only consider realistic values, evaluated on both ends\n",
    "dim32_predicate_metrics = dim32_predicate_metrics.query('Type == \"realistic\" and Side == \"both\"')"
   ],
   "metadata": {
    "collapsed": false,
    "ExecuteTime": {
     "end_time": "2024-01-25T03:51:17.336149582Z",
     "start_time": "2024-01-25T03:51:17.229450199Z"
    }
   },
   "id": "38058e763601ae21",
   "execution_count": 76
  },
  {
   "cell_type": "code",
   "outputs": [],
   "source": [
    "def get_wikidata_property_labels(property_ids: list) -> dict:\n",
    "    wikidata_api = 'https://www.wikidata.org/w/api.php'\n",
    "    params = {\n",
    "        'action': 'wbgetentities',\n",
    "        'ids': '|'.join(property_ids),\n",
    "        'languages': 'en',\n",
    "        'props': 'labels',\n",
    "        'format': 'json'\n",
    "    }\n",
    "\n",
    "    response = requests.get(wikidata_api, params).json()\n",
    "\n",
    "    property_labels = []\n",
    "    for pid in property_ids:\n",
    "        property_labels.append(response['entities'][pid]['labels']['en']['value'])\n",
    "\n",
    "    return property_labels"
   ],
   "metadata": {
    "collapsed": false,
    "ExecuteTime": {
     "end_time": "2024-01-25T02:46:28.252375202Z",
     "start_time": "2024-01-25T02:46:28.242910953Z"
    }
   },
   "id": "67dcf53a7eb989ee",
   "execution_count": 6
  },
  {
   "cell_type": "code",
   "outputs": [],
   "source": [
    "def find_train_triple_with_predicate(predicate_name):\n",
    "    triples = wikidata5m_train.query('P == @predicate_name')\n",
    "    \n",
    "    if len(triples) > 0:\n",
    "        first_triple = tuple(triples.iloc[0][['S', 'P', 'O']])\n",
    "        return first_triple\n",
    "    else:\n",
    "        print(f'Error: No triples found for predicate {predicate_name} in training set')\n",
    "    \n",
    "    \n",
    "def find_train_triple_with_subject(subject_name):\n",
    "    triples = wikidata5m_train.query('S == @subject_name')\n",
    "    \n",
    "    if len(triples) > 0:\n",
    "        first_triple = tuple(triples.iloc[0][['S', 'P', 'O']])\n",
    "        return first_triple\n",
    "    else:\n",
    "        print(f'Error: No triples found for subject {subject_name} in training set')\n",
    "\n",
    "\n",
    "def select_best_model(predicate_metrics, predicate_name):\n",
    "    metrics_df = predicate_metrics.query('Metric == @DECISIVE_METRIC and relation_label == @predicate_name')\n",
    "    \n",
    "    optimal_metric = None\n",
    "    if DECISIVE_METRIC_OPTIMUM == 'min':\n",
    "        optimal_metric = metrics_df.loc[metrics_df['Value'].idxmin()]\n",
    "    elif DECISIVE_METRIC_OPTIMUM == 'max':\n",
    "        optimal_metric = metrics_df.loc[metrics_df['Value'].idxmax()]\n",
    "        \n",
    "    return optimal_metric['model']\n",
    "\n",
    "\n",
    "def predict_tail(model_name, subject, predicate):\n",
    "    model = trained_models[model_name]\n",
    "    triples_factory = entity_mappings[model_name]\n",
    "    \n",
    "    return predict_target(\n",
    "        model=model,\n",
    "        head=subject,\n",
    "        relation=predicate,\n",
    "        tail=None,\n",
    "        triples_factory=triples_factory\n",
    "    )\n",
    "\n",
    "\n",
    "def format_triple(subject, predicate, obj):\n",
    "    return f'{subject} {predicate} {obj}   {get_wikidata_property_labels([subject, predicate, obj])}'\n",
    "\n",
    "\n",
    "# Remove the entity already present in the triple\n",
    "# from the predictions (e.g. the subject when the\n",
    "# object is being predicted)\n",
    "def filter_predictions(predictions, src_entity, train_factory):\n",
    "    predictions = predictions.add_membership_columns(train=train_factory, valid=wikidata5m_valid, test=wikidata5m_test)\n",
    "    predictions_df = predictions.df.query('tail_label != @src_entity')\n",
    "    return predictions_df.sort_values(by='score', ascending=False)"
   ],
   "metadata": {
    "collapsed": false,
    "ExecuteTime": {
     "end_time": "2024-01-25T03:51:19.587081313Z",
     "start_time": "2024-01-25T03:51:19.584638224Z"
    }
   },
   "id": "ac0254bebb4a6e87",
   "execution_count": 77
  },
  {
   "cell_type": "markdown",
   "source": [
    "## Best Model Counts"
   ],
   "metadata": {
    "collapsed": false
   },
   "id": "2c691e50bea1b994"
  },
  {
   "cell_type": "code",
   "outputs": [
    {
     "data": {
      "text/plain": "<Figure size 640x480 with 1 Axes>",
      "image/png": "[encoded data removed]"
     },
     "metadata": {},
     "output_type": "display_data"
    }
   ],
   "source": [
    "def compute_best_model_counts(predicate_metrics):\n",
    "    predicate_metrics = predicate_metrics.query('Metric == @DECISIVE_METRIC')\n",
    "    \n",
    "    model_counts = {\n",
    "        'complex': 0,\n",
    "        'distmult': 0,\n",
    "        'simple': 0,\n",
    "        'transe': 0\n",
    "    }\n",
    "    for predicate_name, metrics_df in predicate_metrics.groupby(by='relation_label'):\n",
    "        best_model = select_best_model(metrics_df, predicate_name)\n",
    "        model_counts[best_model] += 1\n",
    "        \n",
    "    return pd.Series(model_counts)\n",
    "\n",
    "\n",
    "def plot_best_model_counts(model_counts, embedding_dim=32):\n",
    "    sns.set_theme(style=SEABORN_THEME)\n",
    "    \n",
    "    model_labels = ['ComplEx', 'DistMult', 'SimplE', 'TransE']\n",
    "    if 'complex' not in model_counts.index.values:\n",
    "        model_labels = ['DistMult', 'SimplE', 'TransE']\n",
    "    \n",
    "    # Plot best model counts\n",
    "    ax = sns.barplot(data=model_counts)\n",
    "    ax.set_title(f'Predicate counts for which models have the best\\n{DECISIVE_METRIC} score')\n",
    "    ax.set_ylabel('Predicate Count')\n",
    "    ax.set_xticks(np.arange(len(model_labels)))\n",
    "    ax.set_xticklabels(model_labels)\n",
    "    \n",
    "    plt.show()\n",
    "        \n",
    "\n",
    "best_model_counts = compute_best_model_counts(dim32_predicate_metrics)\n",
    "plot_best_model_counts(best_model_counts)"
   ],
   "metadata": {
    "collapsed": false,
    "ExecuteTime": {
     "end_time": "2024-01-25T04:06:40.270326278Z",
     "start_time": "2024-01-25T04:06:39.944948754Z"
    }
   },
   "id": "4a38d19c18859b15",
   "execution_count": 89
  },
  {
   "cell_type": "markdown",
   "source": [
    "## First Triple Prediction"
   ],
   "metadata": {
    "collapsed": false
   },
   "id": "1a5821109c3ef0a9"
  },
  {
   "cell_type": "code",
   "outputs": [
    {
     "name": "stdout",
     "output_type": "stream",
     "text": [
      "Triple Pattern:  Q14573913 P106 ?o1\n",
      "Original triple: Q14573913 P106 Q189290   ['W. W. Behrens', 'occupation', 'military officer']\n",
      "Best model: transe\n"
     ]
    }
   ],
   "source": [
    "start_predicate = 'P106'  # shares border with\n",
    "s1, p1, o1 = find_train_triple_with_predicate(start_predicate)\n",
    "print(f'Triple Pattern:  {s1} {p1} ?o1')\n",
    "print('Original triple:', format_triple(s1, p1, o1))\n",
    "\n",
    "best_model = select_best_model(dim32_predicate_metrics, p1)\n",
    "print('Best model:', best_model)"
   ],
   "metadata": {
    "collapsed": false,
    "ExecuteTime": {
     "end_time": "2024-01-25T03:29:48.257102110Z",
     "start_time": "2024-01-25T03:29:47.336795588Z"
    }
   },
   "id": "521bd8d9d095bc4d",
   "execution_count": 65
  },
  {
   "cell_type": "code",
   "outputs": [
    {
     "name": "stderr",
     "output_type": "stream",
     "text": [
      "You're trying to map triples with 180 entities and 0 relations that are not in the training set. These triples will be excluded from the mapping.\n",
      "In total 180 from 5163 triples were filtered out\n",
      "You're trying to map triples with 156 entities and 0 relations that are not in the training set. These triples will be excluded from the mapping.\n",
      "In total 156 from 5133 triples were filtered out\n"
     ]
    },
    {
     "data": {
      "text/plain": "         tail_id     score tail_label  in_train  in_valid  in_test\n4527869  4527869 -5.749949    Q921792     False     False    False\n3691575  3691575 -5.759833    Q683754     False     False    False\n4077301  4077301 -5.770157   Q7497964     False     False    False\n1191280  1191280 -5.848825   Q2064949     False     False    False\n1008469  1008469 -5.851713  Q18636088     False     False    False",
      "text/html": "<div>\n<style scoped>\n    .dataframe tbody tr th:only-of-type {\n        vertical-align: middle;\n    }\n\n    .dataframe tbody tr th {\n        vertical-align: top;\n    }\n\n    .dataframe thead th {\n        text-align: right;\n    }\n</style>\n<table border=\"1\" class=\"dataframe\">\n  <thead>\n    <tr style=\"text-align: right;\">\n      <th></th>\n      <th>tail_id</th>\n      <th>score</th>\n      <th>tail_label</th>\n      <th>in_train</th>\n      <th>in_valid</th>\n      <th>in_test</th>\n    </tr>\n  </thead>\n  <tbody>\n    <tr>\n      <th>4527869</th>\n      <td>4527869</td>\n      <td>-5.749949</td>\n      <td>Q921792</td>\n      <td>False</td>\n      <td>False</td>\n      <td>False</td>\n    </tr>\n    <tr>\n      <th>3691575</th>\n      <td>3691575</td>\n      <td>-5.759833</td>\n      <td>Q683754</td>\n      <td>False</td>\n      <td>False</td>\n      <td>False</td>\n    </tr>\n    <tr>\n      <th>4077301</th>\n      <td>4077301</td>\n      <td>-5.770157</td>\n      <td>Q7497964</td>\n      <td>False</td>\n      <td>False</td>\n      <td>False</td>\n    </tr>\n    <tr>\n      <th>1191280</th>\n      <td>1191280</td>\n      <td>-5.848825</td>\n      <td>Q2064949</td>\n      <td>False</td>\n      <td>False</td>\n      <td>False</td>\n    </tr>\n    <tr>\n      <th>1008469</th>\n      <td>1008469</td>\n      <td>-5.851713</td>\n      <td>Q18636088</td>\n      <td>False</td>\n      <td>False</td>\n      <td>False</td>\n    </tr>\n  </tbody>\n</table>\n</div>"
     },
     "execution_count": 66,
     "metadata": {},
     "output_type": "execute_result"
    }
   ],
   "source": [
    "first_predictions = predict_tail(best_model, subject=s1, predicate=p1)\n",
    "first_predictions = filter_predictions(first_predictions, s1, train_factory=entity_mappings[best_model]).head()\n",
    "first_predictions"
   ],
   "metadata": {
    "collapsed": false,
    "ExecuteTime": {
     "end_time": "2024-01-25T03:29:59.253479601Z",
     "start_time": "2024-01-25T03:29:49.756599500Z"
    }
   },
   "id": "f7c110297eb8ee4d",
   "execution_count": 66
  },
  {
   "cell_type": "code",
   "outputs": [
    {
     "name": "stdout",
     "output_type": "stream",
     "text": [
      "?o1 -> Q921792  ['Kingsville Township']\n",
      "Predicted triple: Q14573913 P106 Q921792   ['W. W. Behrens', 'occupation', 'Kingsville Township']\n"
     ]
    }
   ],
   "source": [
    "pred_o1 = first_predictions.iloc[0]['tail_label']\n",
    "print(f'?o1 -> {pred_o1}  {get_wikidata_property_labels([pred_o1])}')\n",
    "print('Predicted triple:', format_triple(s1, p1, pred_o1))"
   ],
   "metadata": {
    "collapsed": false,
    "ExecuteTime": {
     "end_time": "2024-01-25T03:29:59.636407720Z",
     "start_time": "2024-01-25T03:29:59.254920988Z"
    }
   },
   "id": "2799cbbf977ead80",
   "execution_count": 67
  },
  {
   "cell_type": "markdown",
   "source": [
    "## Second Triple Prediction"
   ],
   "metadata": {
    "collapsed": false
   },
   "id": "31a39c81ae817dbd"
  },
  {
   "cell_type": "code",
   "outputs": [
    {
     "name": "stdout",
     "output_type": "stream",
     "text": [
      "Triple Pattern:  Q921792 P131 ?o2\n",
      "Original triple: Q921792 P131 Q336322   ['Kingsville Township', 'located in the administrative territorial entity', 'Ashtabula County']\n",
      "Best model: transe\n"
     ]
    }
   ],
   "source": [
    "s2, p2, o2 = find_train_triple_with_subject(pred_o1)\n",
    "print(f'Triple Pattern:  {s2} {p2} ?o2')\n",
    "print('Original triple:', format_triple(s2, p2, o2))\n",
    "\n",
    "best_model = select_best_model(dim32_predicate_metrics, p2)\n",
    "print('Best model:', best_model)"
   ],
   "metadata": {
    "collapsed": false,
    "ExecuteTime": {
     "end_time": "2024-01-25T03:30:11.094544414Z",
     "start_time": "2024-01-25T03:30:10.500751808Z"
    }
   },
   "id": "e00116bdd3b8131b",
   "execution_count": 68
  },
  {
   "cell_type": "code",
   "outputs": [
    {
     "name": "stderr",
     "output_type": "stream",
     "text": [
      "You're trying to map triples with 180 entities and 0 relations that are not in the training set. These triples will be excluded from the mapping.\n",
      "In total 180 from 5163 triples were filtered out\n",
      "You're trying to map triples with 156 entities and 0 relations that are not in the training set. These triples will be excluded from the mapping.\n",
      "In total 156 from 5133 triples were filtered out\n"
     ]
    },
    {
     "data": {
      "text/plain": "         tail_id     score tail_label  in_train  in_valid  in_test\n2648630  2648630 -4.815659    Q490757     False     False    False\n319623    319623 -4.848046      Q1371     False     False    False\n171360    171360 -4.869611      Q1199     False     False    False\n341457    341457 -4.875599      Q1400     False     False    False\n3345380  3345380 -4.938412     Q61315     False     False    False",
      "text/html": "<div>\n<style scoped>\n    .dataframe tbody tr th:only-of-type {\n        vertical-align: middle;\n    }\n\n    .dataframe tbody tr th {\n        vertical-align: top;\n    }\n\n    .dataframe thead th {\n        text-align: right;\n    }\n</style>\n<table border=\"1\" class=\"dataframe\">\n  <thead>\n    <tr style=\"text-align: right;\">\n      <th></th>\n      <th>tail_id</th>\n      <th>score</th>\n      <th>tail_label</th>\n      <th>in_train</th>\n      <th>in_valid</th>\n      <th>in_test</th>\n    </tr>\n  </thead>\n  <tbody>\n    <tr>\n      <th>2648630</th>\n      <td>2648630</td>\n      <td>-4.815659</td>\n      <td>Q490757</td>\n      <td>False</td>\n      <td>False</td>\n      <td>False</td>\n    </tr>\n    <tr>\n      <th>319623</th>\n      <td>319623</td>\n      <td>-4.848046</td>\n      <td>Q1371</td>\n      <td>False</td>\n      <td>False</td>\n      <td>False</td>\n    </tr>\n    <tr>\n      <th>171360</th>\n      <td>171360</td>\n      <td>-4.869611</td>\n      <td>Q1199</td>\n      <td>False</td>\n      <td>False</td>\n      <td>False</td>\n    </tr>\n    <tr>\n      <th>341457</th>\n      <td>341457</td>\n      <td>-4.875599</td>\n      <td>Q1400</td>\n      <td>False</td>\n      <td>False</td>\n      <td>False</td>\n    </tr>\n    <tr>\n      <th>3345380</th>\n      <td>3345380</td>\n      <td>-4.938412</td>\n      <td>Q61315</td>\n      <td>False</td>\n      <td>False</td>\n      <td>False</td>\n    </tr>\n  </tbody>\n</table>\n</div>"
     },
     "execution_count": 69,
     "metadata": {},
     "output_type": "execute_result"
    }
   ],
   "source": [
    "second_predictions = predict_tail(best_model, subject=s2, predicate=p2)\n",
    "second_predictions = filter_predictions(second_predictions, s2, train_factory=entity_mappings[best_model]).head()\n",
    "second_predictions"
   ],
   "metadata": {
    "collapsed": false,
    "ExecuteTime": {
     "end_time": "2024-01-25T03:30:33.139365511Z",
     "start_time": "2024-01-25T03:30:23.412451971Z"
    }
   },
   "id": "3c44d3516d54b8b1",
   "execution_count": 69
  },
  {
   "cell_type": "code",
   "outputs": [
    {
     "name": "stdout",
     "output_type": "stream",
     "text": [
      "?o2 -> Q490757  ['Carroll County']\n",
      "Predicted triple: Q921792 P131 Q490757   ['Kingsville Township', 'located in the administrative territorial entity', 'Carroll County']\n"
     ]
    }
   ],
   "source": [
    "pred_o2 = second_predictions.iloc[0]['tail_label']\n",
    "print(f'?o2 -> {pred_o2}  {get_wikidata_property_labels([pred_o2])}')\n",
    "print('Predicted triple:', format_triple(s2, p2, pred_o2))"
   ],
   "metadata": {
    "collapsed": false,
    "ExecuteTime": {
     "end_time": "2024-01-25T03:30:33.514788168Z",
     "start_time": "2024-01-25T03:30:33.140916293Z"
    }
   },
   "id": "59aec50323a021f5",
   "execution_count": 70
  },
  {
   "cell_type": "markdown",
   "source": [
    "## Third Triple Prediction"
   ],
   "metadata": {
    "collapsed": false
   },
   "id": "f3e605f9919c87b8"
  },
  {
   "cell_type": "code",
   "outputs": [
    {
     "name": "stdout",
     "output_type": "stream",
     "text": [
      "Triple Pattern:  Q490757 P17 ?o3\n",
      "Original triple: Q490757 P17 Q30   ['Carroll County', 'country', 'United States of America']\n",
      "Best model: transe\n"
     ]
    }
   ],
   "source": [
    "s3, p3, o3 = find_train_triple_with_subject(pred_o2)\n",
    "print(f'Triple Pattern:  {s3} {p3} ?o3')\n",
    "print(f'Original triple:', format_triple(s3, p3, o3))\n",
    "\n",
    "best_model = select_best_model(dim32_predicate_metrics, p3)\n",
    "print('Best model:', best_model)"
   ],
   "metadata": {
    "collapsed": false,
    "ExecuteTime": {
     "end_time": "2024-01-25T03:30:46.378672338Z",
     "start_time": "2024-01-25T03:30:45.612161491Z"
    }
   },
   "id": "2d861812c8f7379b",
   "execution_count": 71
  },
  {
   "cell_type": "code",
   "outputs": [
    {
     "name": "stderr",
     "output_type": "stream",
     "text": [
      "You're trying to map triples with 180 entities and 0 relations that are not in the training set. These triples will be excluded from the mapping.\n",
      "In total 180 from 5163 triples were filtered out\n",
      "You're trying to map triples with 156 entities and 0 relations that are not in the training set. These triples will be excluded from the mapping.\n",
      "In total 156 from 5133 triples were filtered out\n"
     ]
    },
    {
     "data": {
      "text/plain": "         tail_id     score tail_label  in_train  in_valid  in_test\n3070120  3070120 -5.605819        Q55     False     False    False\n2993704  2993704 -5.668486      Q5385     False     False    False\n4132676  4132676 -5.781371       Q760     False     False    False\n2841381  2841381 -5.851366    Q518101     False     False    False\n410797    410797 -5.882351       Q148     False     False    False",
      "text/html": "<div>\n<style scoped>\n    .dataframe tbody tr th:only-of-type {\n        vertical-align: middle;\n    }\n\n    .dataframe tbody tr th {\n        vertical-align: top;\n    }\n\n    .dataframe thead th {\n        text-align: right;\n    }\n</style>\n<table border=\"1\" class=\"dataframe\">\n  <thead>\n    <tr style=\"text-align: right;\">\n      <th></th>\n      <th>tail_id</th>\n      <th>score</th>\n      <th>tail_label</th>\n      <th>in_train</th>\n      <th>in_valid</th>\n      <th>in_test</th>\n    </tr>\n  </thead>\n  <tbody>\n    <tr>\n      <th>3070120</th>\n      <td>3070120</td>\n      <td>-5.605819</td>\n      <td>Q55</td>\n      <td>False</td>\n      <td>False</td>\n      <td>False</td>\n    </tr>\n    <tr>\n      <th>2993704</th>\n      <td>2993704</td>\n      <td>-5.668486</td>\n      <td>Q5385</td>\n      <td>False</td>\n      <td>False</td>\n      <td>False</td>\n    </tr>\n    <tr>\n      <th>4132676</th>\n      <td>4132676</td>\n      <td>-5.781371</td>\n      <td>Q760</td>\n      <td>False</td>\n      <td>False</td>\n      <td>False</td>\n    </tr>\n    <tr>\n      <th>2841381</th>\n      <td>2841381</td>\n      <td>-5.851366</td>\n      <td>Q518101</td>\n      <td>False</td>\n      <td>False</td>\n      <td>False</td>\n    </tr>\n    <tr>\n      <th>410797</th>\n      <td>410797</td>\n      <td>-5.882351</td>\n      <td>Q148</td>\n      <td>False</td>\n      <td>False</td>\n      <td>False</td>\n    </tr>\n  </tbody>\n</table>\n</div>"
     },
     "execution_count": 72,
     "metadata": {},
     "output_type": "execute_result"
    }
   ],
   "source": [
    "third_predictions = predict_tail(best_model, subject=s3, predicate=p3)\n",
    "third_predictions = filter_predictions(third_predictions, s3, train_factory=entity_mappings[best_model]).head()\n",
    "third_predictions"
   ],
   "metadata": {
    "collapsed": false,
    "ExecuteTime": {
     "end_time": "2024-01-25T03:30:57.706301181Z",
     "start_time": "2024-01-25T03:30:48.570599127Z"
    }
   },
   "id": "3515c1628c37f382",
   "execution_count": 72
  },
  {
   "cell_type": "code",
   "outputs": [
    {
     "name": "stdout",
     "output_type": "stream",
     "text": [
      "?o3 -> Q55  ['Netherlands']\n",
      "Predicted triple: Q490757 P17 Q55   ['Carroll County', 'country', 'Netherlands']\n"
     ]
    }
   ],
   "source": [
    "pred_o3 = third_predictions.iloc[0]['tail_label']\n",
    "print(f'?o3 -> {pred_o3}  {get_wikidata_property_labels([pred_o3])}')\n",
    "print('Predicted triple:', format_triple(s3, p3, pred_o3))"
   ],
   "metadata": {
    "collapsed": false,
    "ExecuteTime": {
     "end_time": "2024-01-25T03:30:59.693607465Z",
     "start_time": "2024-01-25T03:30:59.186716690Z"
    }
   },
   "id": "1e01619e26a1b5b0",
   "execution_count": 73
  },
  {
   "cell_type": "code",
   "outputs": [],
   "source": [],
   "metadata": {
    "collapsed": false
   },
   "id": "f1fc5a6e3dea87fe"
  }
 ],
 "metadata": {
  "kernelspec": {
   "display_name": "Python 3",
   "language": "python",
   "name": "python3"
  },
  "language_info": {
   "codemirror_mode": {
    "name": "ipython",
    "version": 2
   },
   "file_extension": ".py",
   "mimetype": "text/x-python",
   "name": "python",
   "nbconvert_exporter": "python",
   "pygments_lexer": "ipython2",
   "version": "2.7.6"
  }
 },
 "nbformat": 4,
 "nbformat_minor": 5
}
